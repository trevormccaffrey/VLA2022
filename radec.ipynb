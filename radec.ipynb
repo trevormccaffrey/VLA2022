{
 "cells": [
  {
   "cell_type": "code",
   "execution_count": 1,
   "id": "c8353947",
   "metadata": {},
   "outputs": [],
   "source": [
    "import numpy as np\n",
    "import pandas as pd\n",
    "import matplotlib.pyplot as plt\n",
    "import astropy.coordinates as coord\n",
    "import astropy.units as u\n",
    "from astropy.coordinates import SkyCoord"
   ]
  },
  {
   "cell_type": "code",
   "execution_count": 2,
   "id": "9d1a7d21",
   "metadata": {},
   "outputs": [],
   "source": [
    "def isNaN(string):\n",
    "    return string!=string"
   ]
  },
  {
   "cell_type": "code",
   "execution_count": 3,
   "id": "130e4514",
   "metadata": {},
   "outputs": [
    {
     "name": "stdout",
     "output_type": "stream",
     "text": [
      "/Users/Trevor1/Desktop/git/VLA2022\r\n"
     ]
    }
   ],
   "source": [
    "!pwd"
   ]
  },
  {
   "cell_type": "code",
   "execution_count": 4,
   "id": "cbf319f0",
   "metadata": {},
   "outputs": [],
   "source": [
    "dat = pd.read_csv(\"VLA2018data/grdr7_Shen2011_8403col_lofar_first_vlass_info.csv\")\n",
    "z   = dat[\"REDSHIFT\"].values ; zmask = ((z>1.65)&(z<1.75))\n",
    "dat = dat[zmask]"
   ]
  },
  {
   "cell_type": "code",
   "execution_count": 5,
   "id": "bfdeab0c",
   "metadata": {},
   "outputs": [
    {
     "data": {
      "text/plain": [
       "(2216, 36)"
      ]
     },
     "execution_count": 5,
     "metadata": {},
     "output_type": "execute_result"
    }
   ],
   "source": [
    "dat.shape"
   ]
  },
  {
   "cell_type": "code",
   "execution_count": 6,
   "id": "772827ae",
   "metadata": {},
   "outputs": [
    {
     "data": {
      "text/html": [
       "<div>\n",
       "<style scoped>\n",
       "    .dataframe tbody tr th:only-of-type {\n",
       "        vertical-align: middle;\n",
       "    }\n",
       "\n",
       "    .dataframe tbody tr th {\n",
       "        vertical-align: top;\n",
       "    }\n",
       "\n",
       "    .dataframe thead th {\n",
       "        text-align: right;\n",
       "    }\n",
       "</style>\n",
       "<table border=\"1\" class=\"dataframe\">\n",
       "  <thead>\n",
       "    <tr style=\"text-align: right;\">\n",
       "      <th></th>\n",
       "      <th>col1</th>\n",
       "      <th>Name</th>\n",
       "      <th>RA_1_1</th>\n",
       "      <th>Dec_1_1</th>\n",
       "      <th>SDSS_NAME</th>\n",
       "      <th>RA_2</th>\n",
       "      <th>DEC_2</th>\n",
       "      <th>REDSHIFT</th>\n",
       "      <th>TARGET_FLAG_TARGET</th>\n",
       "      <th>UNIFORM_TARGET</th>\n",
       "      <th>...</th>\n",
       "      <th>e_Sint</th>\n",
       "      <th>Separation_1a</th>\n",
       "      <th>RA</th>\n",
       "      <th>DEC</th>\n",
       "      <th>Total_flux</th>\n",
       "      <th>E_Total_flux</th>\n",
       "      <th>Peak_flux</th>\n",
       "      <th>E_Peak_flux</th>\n",
       "      <th>P_sidelobe</th>\n",
       "      <th>Separation</th>\n",
       "    </tr>\n",
       "  </thead>\n",
       "  <tbody>\n",
       "    <tr>\n",
       "      <th>10</th>\n",
       "      <td>2006</td>\n",
       "      <td>SDSSJ142509.13-022717.0</td>\n",
       "      <td>216.288070</td>\n",
       "      <td>-2.454726</td>\n",
       "      <td>142509.13-022717.0</td>\n",
       "      <td>216.288071</td>\n",
       "      <td>-2.454726</td>\n",
       "      <td>1.6915</td>\n",
       "      <td>10.0</td>\n",
       "      <td>1.0</td>\n",
       "      <td>...</td>\n",
       "      <td>NaN</td>\n",
       "      <td>NaN</td>\n",
       "      <td>216.288068</td>\n",
       "      <td>-2.454659</td>\n",
       "      <td>60.966269</td>\n",
       "      <td>0.288621</td>\n",
       "      <td>58.834891</td>\n",
       "      <td>0.160746</td>\n",
       "      <td>-1.00</td>\n",
       "      <td>0.240714</td>\n",
       "    </tr>\n",
       "    <tr>\n",
       "      <th>15</th>\n",
       "      <td>3691</td>\n",
       "      <td>SDSSJ095449.38+372634.2</td>\n",
       "      <td>148.705764</td>\n",
       "      <td>37.442858</td>\n",
       "      <td>095449.38+372634.2</td>\n",
       "      <td>148.705765</td>\n",
       "      <td>37.442860</td>\n",
       "      <td>1.7134</td>\n",
       "      <td>1048579.0</td>\n",
       "      <td>1.0</td>\n",
       "      <td>...</td>\n",
       "      <td>NaN</td>\n",
       "      <td>NaN</td>\n",
       "      <td>148.705751</td>\n",
       "      <td>37.442893</td>\n",
       "      <td>0.000000</td>\n",
       "      <td>0.000000</td>\n",
       "      <td>0.729659</td>\n",
       "      <td>0.000000</td>\n",
       "      <td>-1.00</td>\n",
       "      <td>0.129825</td>\n",
       "    </tr>\n",
       "    <tr>\n",
       "      <th>18</th>\n",
       "      <td>7077</td>\n",
       "      <td>SDSSJ123624.63+211224.4</td>\n",
       "      <td>189.102655</td>\n",
       "      <td>21.206803</td>\n",
       "      <td>123624.63+211224.4</td>\n",
       "      <td>189.102661</td>\n",
       "      <td>21.206802</td>\n",
       "      <td>1.7204</td>\n",
       "      <td>1048578.0</td>\n",
       "      <td>1.0</td>\n",
       "      <td>...</td>\n",
       "      <td>NaN</td>\n",
       "      <td>NaN</td>\n",
       "      <td>189.102734</td>\n",
       "      <td>21.206909</td>\n",
       "      <td>2.014953</td>\n",
       "      <td>0.336147</td>\n",
       "      <td>1.138141</td>\n",
       "      <td>0.129761</td>\n",
       "      <td>-1.00</td>\n",
       "      <td>0.463648</td>\n",
       "    </tr>\n",
       "    <tr>\n",
       "      <th>21</th>\n",
       "      <td>300</td>\n",
       "      <td>SDSSJ020357.97+140745.9</td>\n",
       "      <td>30.991545</td>\n",
       "      <td>14.129431</td>\n",
       "      <td>020357.97+140745.9</td>\n",
       "      <td>30.991545</td>\n",
       "      <td>14.129431</td>\n",
       "      <td>1.6532</td>\n",
       "      <td>1179652.0</td>\n",
       "      <td>0.0</td>\n",
       "      <td>...</td>\n",
       "      <td>NaN</td>\n",
       "      <td>NaN</td>\n",
       "      <td>30.991589</td>\n",
       "      <td>14.129501</td>\n",
       "      <td>34.902123</td>\n",
       "      <td>0.329936</td>\n",
       "      <td>33.526203</td>\n",
       "      <td>0.144292</td>\n",
       "      <td>-1.00</td>\n",
       "      <td>0.295099</td>\n",
       "    </tr>\n",
       "    <tr>\n",
       "      <th>22</th>\n",
       "      <td>7897</td>\n",
       "      <td>SDSSJ032125.79+001359.3</td>\n",
       "      <td>50.357484</td>\n",
       "      <td>0.233149</td>\n",
       "      <td>032125.79+001359.3</td>\n",
       "      <td>50.357483</td>\n",
       "      <td>0.233149</td>\n",
       "      <td>1.7097</td>\n",
       "      <td>1048580.0</td>\n",
       "      <td>0.0</td>\n",
       "      <td>...</td>\n",
       "      <td>NaN</td>\n",
       "      <td>NaN</td>\n",
       "      <td>50.357513</td>\n",
       "      <td>0.233159</td>\n",
       "      <td>2.129276</td>\n",
       "      <td>0.294076</td>\n",
       "      <td>2.158066</td>\n",
       "      <td>0.170095</td>\n",
       "      <td>0.01</td>\n",
       "      <td>0.111581</td>\n",
       "    </tr>\n",
       "    <tr>\n",
       "      <th>...</th>\n",
       "      <td>...</td>\n",
       "      <td>...</td>\n",
       "      <td>...</td>\n",
       "      <td>...</td>\n",
       "      <td>...</td>\n",
       "      <td>...</td>\n",
       "      <td>...</td>\n",
       "      <td>...</td>\n",
       "      <td>...</td>\n",
       "      <td>...</td>\n",
       "      <td>...</td>\n",
       "      <td>...</td>\n",
       "      <td>...</td>\n",
       "      <td>...</td>\n",
       "      <td>...</td>\n",
       "      <td>...</td>\n",
       "      <td>...</td>\n",
       "      <td>...</td>\n",
       "      <td>...</td>\n",
       "      <td>...</td>\n",
       "      <td>...</td>\n",
       "    </tr>\n",
       "    <tr>\n",
       "      <th>8380</th>\n",
       "      <td>4405</td>\n",
       "      <td>SDSSJ130228.87+143257.0</td>\n",
       "      <td>195.620301</td>\n",
       "      <td>14.549192</td>\n",
       "      <td>130228.87+143257.0</td>\n",
       "      <td>195.620300</td>\n",
       "      <td>14.549192</td>\n",
       "      <td>1.7384</td>\n",
       "      <td>3145739.0</td>\n",
       "      <td>1.0</td>\n",
       "      <td>...</td>\n",
       "      <td>NaN</td>\n",
       "      <td>NaN</td>\n",
       "      <td>195.620370</td>\n",
       "      <td>14.549235</td>\n",
       "      <td>7.295925</td>\n",
       "      <td>0.253661</td>\n",
       "      <td>6.500030</td>\n",
       "      <td>0.133205</td>\n",
       "      <td>-1.00</td>\n",
       "      <td>0.286367</td>\n",
       "    </tr>\n",
       "    <tr>\n",
       "      <th>8389</th>\n",
       "      <td>8086</td>\n",
       "      <td>SDSSJ013146.43-084104.1</td>\n",
       "      <td>22.943495</td>\n",
       "      <td>-8.684493</td>\n",
       "      <td>013146.43-084104.1</td>\n",
       "      <td>22.943495</td>\n",
       "      <td>-8.684493</td>\n",
       "      <td>1.6512</td>\n",
       "      <td>3145748.0</td>\n",
       "      <td>0.0</td>\n",
       "      <td>...</td>\n",
       "      <td>NaN</td>\n",
       "      <td>NaN</td>\n",
       "      <td>22.943624</td>\n",
       "      <td>-8.684353</td>\n",
       "      <td>8.723177</td>\n",
       "      <td>0.227550</td>\n",
       "      <td>8.265606</td>\n",
       "      <td>0.119364</td>\n",
       "      <td>-1.00</td>\n",
       "      <td>0.682227</td>\n",
       "    </tr>\n",
       "    <tr>\n",
       "      <th>8390</th>\n",
       "      <td>750</td>\n",
       "      <td>SDSSJ135527.98+015527.5</td>\n",
       "      <td>208.866585</td>\n",
       "      <td>1.924316</td>\n",
       "      <td>135527.98+015527.5</td>\n",
       "      <td>208.866592</td>\n",
       "      <td>1.924316</td>\n",
       "      <td>1.7329</td>\n",
       "      <td>7700.0</td>\n",
       "      <td>0.0</td>\n",
       "      <td>...</td>\n",
       "      <td>NaN</td>\n",
       "      <td>NaN</td>\n",
       "      <td>208.866650</td>\n",
       "      <td>1.924342</td>\n",
       "      <td>10.228031</td>\n",
       "      <td>0.269245</td>\n",
       "      <td>10.814260</td>\n",
       "      <td>0.161128</td>\n",
       "      <td>-1.00</td>\n",
       "      <td>0.252984</td>\n",
       "    </tr>\n",
       "    <tr>\n",
       "      <th>8394</th>\n",
       "      <td>6063</td>\n",
       "      <td>SDSSJ081413.31+164233.1</td>\n",
       "      <td>123.555496</td>\n",
       "      <td>16.709215</td>\n",
       "      <td>081413.31+164233.1</td>\n",
       "      <td>123.555496</td>\n",
       "      <td>16.709215</td>\n",
       "      <td>1.7315</td>\n",
       "      <td>1048586.0</td>\n",
       "      <td>1.0</td>\n",
       "      <td>...</td>\n",
       "      <td>NaN</td>\n",
       "      <td>NaN</td>\n",
       "      <td>123.555457</td>\n",
       "      <td>16.709262</td>\n",
       "      <td>4.009362</td>\n",
       "      <td>0.422461</td>\n",
       "      <td>4.031476</td>\n",
       "      <td>0.240144</td>\n",
       "      <td>-1.00</td>\n",
       "      <td>0.217661</td>\n",
       "    </tr>\n",
       "    <tr>\n",
       "      <th>8396</th>\n",
       "      <td>1877</td>\n",
       "      <td>SDSSJ074412.05+295906.8</td>\n",
       "      <td>116.050221</td>\n",
       "      <td>29.985228</td>\n",
       "      <td>074412.05+295906.8</td>\n",
       "      <td>116.050224</td>\n",
       "      <td>29.985228</td>\n",
       "      <td>1.7070</td>\n",
       "      <td>11.0</td>\n",
       "      <td>1.0</td>\n",
       "      <td>...</td>\n",
       "      <td>NaN</td>\n",
       "      <td>NaN</td>\n",
       "      <td>116.050289</td>\n",
       "      <td>29.985251</td>\n",
       "      <td>106.573854</td>\n",
       "      <td>0.291844</td>\n",
       "      <td>103.289028</td>\n",
       "      <td>0.153862</td>\n",
       "      <td>-1.00</td>\n",
       "      <td>0.227906</td>\n",
       "    </tr>\n",
       "  </tbody>\n",
       "</table>\n",
       "<p>2216 rows × 36 columns</p>\n",
       "</div>"
      ],
      "text/plain": [
       "      col1                     Name      RA_1_1    Dec_1_1  \\\n",
       "10    2006  SDSSJ142509.13-022717.0  216.288070  -2.454726   \n",
       "15    3691  SDSSJ095449.38+372634.2  148.705764  37.442858   \n",
       "18    7077  SDSSJ123624.63+211224.4  189.102655  21.206803   \n",
       "21     300  SDSSJ020357.97+140745.9   30.991545  14.129431   \n",
       "22    7897  SDSSJ032125.79+001359.3   50.357484   0.233149   \n",
       "...    ...                      ...         ...        ...   \n",
       "8380  4405  SDSSJ130228.87+143257.0  195.620301  14.549192   \n",
       "8389  8086  SDSSJ013146.43-084104.1   22.943495  -8.684493   \n",
       "8390   750  SDSSJ135527.98+015527.5  208.866585   1.924316   \n",
       "8394  6063  SDSSJ081413.31+164233.1  123.555496  16.709215   \n",
       "8396  1877  SDSSJ074412.05+295906.8  116.050221  29.985228   \n",
       "\n",
       "               SDSS_NAME        RA_2      DEC_2  REDSHIFT  TARGET_FLAG_TARGET  \\\n",
       "10    142509.13-022717.0  216.288071  -2.454726    1.6915                10.0   \n",
       "15    095449.38+372634.2  148.705765  37.442860    1.7134           1048579.0   \n",
       "18    123624.63+211224.4  189.102661  21.206802    1.7204           1048578.0   \n",
       "21    020357.97+140745.9   30.991545  14.129431    1.6532           1179652.0   \n",
       "22    032125.79+001359.3   50.357483   0.233149    1.7097           1048580.0   \n",
       "...                  ...         ...        ...       ...                 ...   \n",
       "8380  130228.87+143257.0  195.620300  14.549192    1.7384           3145739.0   \n",
       "8389  013146.43-084104.1   22.943495  -8.684493    1.6512           3145748.0   \n",
       "8390  135527.98+015527.5  208.866592   1.924316    1.7329              7700.0   \n",
       "8394  081413.31+164233.1  123.555496  16.709215    1.7315           1048586.0   \n",
       "8396  074412.05+295906.8  116.050224  29.985228    1.7070                11.0   \n",
       "\n",
       "      UNIFORM_TARGET  ...  e_Sint  Separation_1a          RA        DEC  \\\n",
       "10               1.0  ...     NaN            NaN  216.288068  -2.454659   \n",
       "15               1.0  ...     NaN            NaN  148.705751  37.442893   \n",
       "18               1.0  ...     NaN            NaN  189.102734  21.206909   \n",
       "21               0.0  ...     NaN            NaN   30.991589  14.129501   \n",
       "22               0.0  ...     NaN            NaN   50.357513   0.233159   \n",
       "...              ...  ...     ...            ...         ...        ...   \n",
       "8380             1.0  ...     NaN            NaN  195.620370  14.549235   \n",
       "8389             0.0  ...     NaN            NaN   22.943624  -8.684353   \n",
       "8390             0.0  ...     NaN            NaN  208.866650   1.924342   \n",
       "8394             1.0  ...     NaN            NaN  123.555457  16.709262   \n",
       "8396             1.0  ...     NaN            NaN  116.050289  29.985251   \n",
       "\n",
       "      Total_flux  E_Total_flux   Peak_flux  E_Peak_flux  P_sidelobe  \\\n",
       "10     60.966269      0.288621   58.834891     0.160746       -1.00   \n",
       "15      0.000000      0.000000    0.729659     0.000000       -1.00   \n",
       "18      2.014953      0.336147    1.138141     0.129761       -1.00   \n",
       "21     34.902123      0.329936   33.526203     0.144292       -1.00   \n",
       "22      2.129276      0.294076    2.158066     0.170095        0.01   \n",
       "...          ...           ...         ...          ...         ...   \n",
       "8380    7.295925      0.253661    6.500030     0.133205       -1.00   \n",
       "8389    8.723177      0.227550    8.265606     0.119364       -1.00   \n",
       "8390   10.228031      0.269245   10.814260     0.161128       -1.00   \n",
       "8394    4.009362      0.422461    4.031476     0.240144       -1.00   \n",
       "8396  106.573854      0.291844  103.289028     0.153862       -1.00   \n",
       "\n",
       "      Separation  \n",
       "10      0.240714  \n",
       "15      0.129825  \n",
       "18      0.463648  \n",
       "21      0.295099  \n",
       "22      0.111581  \n",
       "...          ...  \n",
       "8380    0.286367  \n",
       "8389    0.682227  \n",
       "8390    0.252984  \n",
       "8394    0.217661  \n",
       "8396    0.227906  \n",
       "\n",
       "[2216 rows x 36 columns]"
      ]
     },
     "execution_count": 6,
     "metadata": {},
     "output_type": "execute_result"
    }
   ],
   "source": [
    "dat"
   ]
  },
  {
   "cell_type": "code",
   "execution_count": 7,
   "id": "8db7cfec",
   "metadata": {},
   "outputs": [],
   "source": [
    "ra = dat[\"RA_1_1\"].values\n",
    "dec= dat[\"Dec_1_1\"].values\n",
    "\n",
    "lofar    = ~isNaN(dat[\"r_z\"].values) \n",
    "lofar_det= ~isNaN(dat[\"Speak\"].values)\n",
    "first    = dat[\"FINT_REST6CM_MJY_OBS\"].values > 0\n",
    "vlass    = ~isNaN(dat[\"Total_flux\"].values)"
   ]
  },
  {
   "cell_type": "code",
   "execution_count": 8,
   "id": "b7ca78a6",
   "metadata": {},
   "outputs": [
    {
     "name": "stdout",
     "output_type": "stream",
     "text": [
      "LOFAR footprint : 102\n",
      "LOFAR detections: 34\n",
      "FIRST detections: 165\n",
      "VLASS detections: 143\n"
     ]
    }
   ],
   "source": [
    "print(\"LOFAR footprint : %d\" % lofar.sum())\n",
    "print(\"LOFAR detections: %d\" % lofar_det.sum())\n",
    "print(\"FIRST detections: %d\" % first.sum())\n",
    "print(\"VLASS detections: %d\" % vlass.sum())"
   ]
  },
  {
   "cell_type": "code",
   "execution_count": 9,
   "id": "4e6a2126",
   "metadata": {},
   "outputs": [],
   "source": [
    "RA_deg = coord.Angle(ra, unit=u.degree).degree\n",
    "DEC_deg = coord.Angle(dec, unit=u.degree).degree"
   ]
  },
  {
   "cell_type": "code",
   "execution_count": 10,
   "id": "88ef32fc",
   "metadata": {},
   "outputs": [],
   "source": [
    "coords = SkyCoord(RA_deg, DEC_deg, unit=u.degree)"
   ]
  },
  {
   "cell_type": "code",
   "execution_count": 11,
   "id": "daebf0d9",
   "metadata": {},
   "outputs": [
    {
     "data": {
      "text/plain": [
       "array([3.77493895, 2.5954052 , 3.30046395, ..., 3.64540961, 2.15645021,\n",
       "       2.02545845])"
      ]
     },
     "execution_count": 11,
     "metadata": {},
     "output_type": "execute_result"
    }
   ],
   "source": [
    "coords.ra.radian"
   ]
  },
  {
   "cell_type": "code",
   "execution_count": 12,
   "id": "f621ef73",
   "metadata": {},
   "outputs": [
    {
     "data": {
      "image/png": "[encoded data removed]",
      "text/plain": [
       "<Figure size 936x720 with 1 Axes>"
      ]
     },
     "metadata": {
      "needs_background": "light"
     },
     "output_type": "display_data"
    }
   ],
   "source": [
    "fig = plt.figure(figsize=(13,10))\n",
    "ax = fig.add_subplot(111, projection=\"mollweide\")\n",
    "ax.scatter(coords.ra.wrap_at(180*u.degree).radian, coords.dec.radian, c=\"k\", s=2, alpha=0.5)\n",
    "ax.scatter(coords.ra.wrap_at(180*u.degree).radian[lofar], coords.dec.radian[lofar], c=\"g\", s=20)\n",
    "ax.scatter(coords.ra.wrap_at(180*u.degree).radian[lofar_det], coords.dec.radian[lofar_det], c=\"m\", s=20)\n",
    "ax.scatter(coords.ra.wrap_at(180*u.degree).radian[first], coords.dec.radian[first], c=\"orange\", s=20)\n",
    "ax.scatter(coords.ra.wrap_at(180*u.degree).radian[vlass], coords.dec.radian[vlass], c=\"b\", s=20)\n",
    "ax.set_xticklabels(['14h','16h','18h','20h','22h','0h','2h','4h','6h','8h','10h'])\n",
    "plt.grid(True)"
   ]
  },
  {
   "cell_type": "markdown",
   "id": "0c16c2ba",
   "metadata": {},
   "source": [
    "Want a long strip of RA to get volume-complete sample. See how many are in cuts of 2 degrees."
   ]
  },
  {
   "cell_type": "code",
   "execution_count": 13,
   "id": "76d9d3da",
   "metadata": {},
   "outputs": [
    {
     "data": {
      "text/plain": [
       "(array([216.28807 , 148.705764, 189.102655, ..., 208.866585, 123.555496,\n",
       "        116.050221]),\n",
       " array([-2.454726, 37.442858, 21.206803, ...,  1.924316, 16.709215,\n",
       "        29.985228]))"
      ]
     },
     "execution_count": 13,
     "metadata": {},
     "output_type": "execute_result"
    }
   ],
   "source": [
    "ra, dec"
   ]
  },
  {
   "cell_type": "code",
   "execution_count": 14,
   "id": "425cb3af",
   "metadata": {},
   "outputs": [
    {
     "data": {
      "text/plain": [
       "(-11.138894, 68.339545)"
      ]
     },
     "execution_count": 14,
     "metadata": {},
     "output_type": "execute_result"
    }
   ],
   "source": [
    "dec.min(), dec.max()"
   ]
  },
  {
   "cell_type": "code",
   "execution_count": 15,
   "id": "6827bd22",
   "metadata": {},
   "outputs": [
    {
     "data": {
      "text/plain": [
       "(array([ 58.,  20., 165., 128., 131., 159., 183., 147., 141., 186., 142.,\n",
       "        132., 130., 100.,  89.,  73.,  80.,  67.,  53.,  32.]),\n",
       " array([-11.138894  ,  -7.16497205,  -3.1910501 ,   0.78287185,\n",
       "          4.7567938 ,   8.73071575,  12.7046377 ,  16.67855965,\n",
       "         20.6524816 ,  24.62640355,  28.6003255 ,  32.57424745,\n",
       "         36.5481694 ,  40.52209135,  44.4960133 ,  48.46993525,\n",
       "         52.4438572 ,  56.41777915,  60.3917011 ,  64.36562305,\n",
       "         68.339545  ]),\n",
       " <BarContainer object of 20 artists>)"
      ]
     },
     "execution_count": 15,
     "metadata": {},
     "output_type": "execute_result"
    },
    {
     "data": {
      "image/png": "[encoded data removed]",
      "text/plain": [
       "<Figure size 432x288 with 1 Axes>"
      ]
     },
     "metadata": {
      "needs_background": "light"
     },
     "output_type": "display_data"
    }
   ],
   "source": [
    "plt.hist(dec, bins=20)"
   ]
  },
  {
   "cell_type": "code",
   "execution_count": 16,
   "id": "7f1a1a0f",
   "metadata": {},
   "outputs": [
    {
     "name": "stdout",
     "output_type": "stream",
     "text": [
      "-17 < Dec < -12:    0,   0 LoTSS sources,   0 radio-detected\n",
      "-12 < Dec <  -7:   59,   0 LoTSS sources,   8 radio-detected\n",
      " -7 < Dec <  -2:   41,   0 LoTSS sources,   2 radio-detected\n",
      " -2 < Dec <   3:  219,   0 LoTSS sources,  25 radio-detected\n",
      "  3 < Dec <   8:  164,   0 LoTSS sources,   8 radio-detected\n",
      "  8 < Dec <  13:  192,   0 LoTSS sources,  17 radio-detected\n",
      " 13 < Dec <  18:  225,   0 LoTSS sources,  18 radio-detected\n",
      " 18 < Dec <  23:  176,   0 LoTSS sources,  17 radio-detected\n",
      " 23 < Dec <  28:  208,   0 LoTSS sources,  11 radio-detected\n",
      " 28 < Dec <  33:  197,   0 LoTSS sources,  13 radio-detected\n",
      " 33 < Dec <  38:  146,   0 LoTSS sources,  11 radio-detected\n",
      " 38 < Dec <  43:  167,   0 LoTSS sources,  14 radio-detected\n",
      " 43 < Dec <  48:  108,  18 LoTSS sources,  13 radio-detected\n",
      " 48 < Dec <  53:   93,  48 LoTSS sources,  27 radio-detected\n",
      " 53 < Dec <  58:   94,  36 LoTSS sources,  16 radio-detected\n",
      " 58 < Dec <  63:   78,   0 LoTSS sources,   7 radio-detected\n",
      " 63 < Dec <  68:   46,   0 LoTSS sources,   4 radio-detected\n",
      " 68 < Dec <  73:    3,   0 LoTSS sources,   0 radio-detected\n"
     ]
    }
   ],
   "source": [
    "dphi = 5\n",
    "for i in np.arange(-17, 70, dphi):\n",
    "    dmask = ((dec>i) & (dec<(i+dphi)))\n",
    "    print(\"%3d < Dec < %3d: %4d, %3d LoTSS sources, %3d radio-detected\" % (i, i+dphi, dmask.sum(), lofar[dmask].sum(), (lofar_det|first|vlass)[dmask].sum()))"
   ]
  },
  {
   "cell_type": "markdown",
   "id": "72dd66d7",
   "metadata": {},
   "source": [
    "Let's go with $ 48 < \\delta < 53$.  That gives us a statistically meaningful volume-limited sample with size N=93, 48 of which are in the LoTSS-DR1 footprint.  27 are also detected in the radio, so for those we can make sure we're not wasting any observing time. "
   ]
  },
  {
   "cell_type": "code",
   "execution_count": 17,
   "id": "390da873",
   "metadata": {},
   "outputs": [],
   "source": [
    "decmask = ((dec>48)&(dec<53))\n",
    "sample  = dat[decmask]"
   ]
  },
  {
   "cell_type": "code",
   "execution_count": 18,
   "id": "1f4e88ea",
   "metadata": {},
   "outputs": [
    {
     "data": {
      "text/html": [
       "<div>\n",
       "<style scoped>\n",
       "    .dataframe tbody tr th:only-of-type {\n",
       "        vertical-align: middle;\n",
       "    }\n",
       "\n",
       "    .dataframe tbody tr th {\n",
       "        vertical-align: top;\n",
       "    }\n",
       "\n",
       "    .dataframe thead th {\n",
       "        text-align: right;\n",
       "    }\n",
       "</style>\n",
       "<table border=\"1\" class=\"dataframe\">\n",
       "  <thead>\n",
       "    <tr style=\"text-align: right;\">\n",
       "      <th></th>\n",
       "      <th>col1</th>\n",
       "      <th>Name</th>\n",
       "      <th>RA_1_1</th>\n",
       "      <th>Dec_1_1</th>\n",
       "      <th>SDSS_NAME</th>\n",
       "      <th>RA_2</th>\n",
       "      <th>DEC_2</th>\n",
       "      <th>REDSHIFT</th>\n",
       "      <th>TARGET_FLAG_TARGET</th>\n",
       "      <th>UNIFORM_TARGET</th>\n",
       "      <th>...</th>\n",
       "      <th>e_Sint</th>\n",
       "      <th>Separation_1a</th>\n",
       "      <th>RA</th>\n",
       "      <th>DEC</th>\n",
       "      <th>Total_flux</th>\n",
       "      <th>E_Total_flux</th>\n",
       "      <th>Peak_flux</th>\n",
       "      <th>E_Peak_flux</th>\n",
       "      <th>P_sidelobe</th>\n",
       "      <th>Separation</th>\n",
       "    </tr>\n",
       "  </thead>\n",
       "  <tbody>\n",
       "    <tr>\n",
       "      <th>68</th>\n",
       "      <td>2549</td>\n",
       "      <td>SDSSJ151133.07+513500.0</td>\n",
       "      <td>227.887798</td>\n",
       "      <td>51.583340</td>\n",
       "      <td>151133.07+513500.0</td>\n",
       "      <td>227.887802</td>\n",
       "      <td>51.583340</td>\n",
       "      <td>1.6654</td>\n",
       "      <td>11.0</td>\n",
       "      <td>1.0</td>\n",
       "      <td>...</td>\n",
       "      <td>0.1</td>\n",
       "      <td>0.0</td>\n",
       "      <td>227.888009</td>\n",
       "      <td>51.583418</td>\n",
       "      <td>1.129133</td>\n",
       "      <td>0.249713</td>\n",
       "      <td>0.909267</td>\n",
       "      <td>0.118224</td>\n",
       "      <td>-1.0</td>\n",
       "      <td>0.549284</td>\n",
       "    </tr>\n",
       "    <tr>\n",
       "      <th>83</th>\n",
       "      <td>7468</td>\n",
       "      <td>SDSSJ161601.73+495634.4</td>\n",
       "      <td>244.007218</td>\n",
       "      <td>49.942899</td>\n",
       "      <td>161601.73+495634.4</td>\n",
       "      <td>244.007217</td>\n",
       "      <td>49.942898</td>\n",
       "      <td>1.7226</td>\n",
       "      <td>11.0</td>\n",
       "      <td>1.0</td>\n",
       "      <td>...</td>\n",
       "      <td>NaN</td>\n",
       "      <td>NaN</td>\n",
       "      <td>244.007271</td>\n",
       "      <td>49.942874</td>\n",
       "      <td>10.008052</td>\n",
       "      <td>0.206328</td>\n",
       "      <td>9.566796</td>\n",
       "      <td>0.115216</td>\n",
       "      <td>-1.0</td>\n",
       "      <td>0.152861</td>\n",
       "    </tr>\n",
       "    <tr>\n",
       "      <th>114</th>\n",
       "      <td>4808</td>\n",
       "      <td>SDSSJ074729.63+492022.7</td>\n",
       "      <td>116.873492</td>\n",
       "      <td>49.339646</td>\n",
       "      <td>074729.63+492022.7</td>\n",
       "      <td>116.873489</td>\n",
       "      <td>49.339645</td>\n",
       "      <td>1.7133</td>\n",
       "      <td>10.0</td>\n",
       "      <td>1.0</td>\n",
       "      <td>...</td>\n",
       "      <td>NaN</td>\n",
       "      <td>NaN</td>\n",
       "      <td>116.873560</td>\n",
       "      <td>49.339641</td>\n",
       "      <td>62.169323</td>\n",
       "      <td>0.241196</td>\n",
       "      <td>60.946381</td>\n",
       "      <td>0.136497</td>\n",
       "      <td>-1.0</td>\n",
       "      <td>0.159818</td>\n",
       "    </tr>\n",
       "    <tr>\n",
       "      <th>154</th>\n",
       "      <td>3012</td>\n",
       "      <td>SDSSJ145844.83+492439.7</td>\n",
       "      <td>224.686796</td>\n",
       "      <td>49.411041</td>\n",
       "      <td>145844.83+492439.7</td>\n",
       "      <td>224.686798</td>\n",
       "      <td>49.411041</td>\n",
       "      <td>1.7134</td>\n",
       "      <td>1048579.0</td>\n",
       "      <td>1.0</td>\n",
       "      <td>...</td>\n",
       "      <td>NaN</td>\n",
       "      <td>0.0</td>\n",
       "      <td>NaN</td>\n",
       "      <td>NaN</td>\n",
       "      <td>NaN</td>\n",
       "      <td>NaN</td>\n",
       "      <td>NaN</td>\n",
       "      <td>NaN</td>\n",
       "      <td>NaN</td>\n",
       "      <td>NaN</td>\n",
       "    </tr>\n",
       "    <tr>\n",
       "      <th>164</th>\n",
       "      <td>1604</td>\n",
       "      <td>SDSSJ152222.02+524743.9</td>\n",
       "      <td>230.591760</td>\n",
       "      <td>52.795547</td>\n",
       "      <td>152222.02+524743.9</td>\n",
       "      <td>230.591766</td>\n",
       "      <td>52.795547</td>\n",
       "      <td>1.6942</td>\n",
       "      <td>1048579.0</td>\n",
       "      <td>1.0</td>\n",
       "      <td>...</td>\n",
       "      <td>NaN</td>\n",
       "      <td>0.0</td>\n",
       "      <td>NaN</td>\n",
       "      <td>NaN</td>\n",
       "      <td>NaN</td>\n",
       "      <td>NaN</td>\n",
       "      <td>NaN</td>\n",
       "      <td>NaN</td>\n",
       "      <td>NaN</td>\n",
       "      <td>NaN</td>\n",
       "    </tr>\n",
       "    <tr>\n",
       "      <th>...</th>\n",
       "      <td>...</td>\n",
       "      <td>...</td>\n",
       "      <td>...</td>\n",
       "      <td>...</td>\n",
       "      <td>...</td>\n",
       "      <td>...</td>\n",
       "      <td>...</td>\n",
       "      <td>...</td>\n",
       "      <td>...</td>\n",
       "      <td>...</td>\n",
       "      <td>...</td>\n",
       "      <td>...</td>\n",
       "      <td>...</td>\n",
       "      <td>...</td>\n",
       "      <td>...</td>\n",
       "      <td>...</td>\n",
       "      <td>...</td>\n",
       "      <td>...</td>\n",
       "      <td>...</td>\n",
       "      <td>...</td>\n",
       "      <td>...</td>\n",
       "    </tr>\n",
       "    <tr>\n",
       "      <th>8252</th>\n",
       "      <td>2228</td>\n",
       "      <td>SDSSJ120554.84+494236.3</td>\n",
       "      <td>181.478533</td>\n",
       "      <td>49.710092</td>\n",
       "      <td>120554.84+494236.3</td>\n",
       "      <td>181.478531</td>\n",
       "      <td>49.710091</td>\n",
       "      <td>1.6660</td>\n",
       "      <td>1048578.0</td>\n",
       "      <td>1.0</td>\n",
       "      <td>...</td>\n",
       "      <td>NaN</td>\n",
       "      <td>0.0</td>\n",
       "      <td>NaN</td>\n",
       "      <td>NaN</td>\n",
       "      <td>NaN</td>\n",
       "      <td>NaN</td>\n",
       "      <td>NaN</td>\n",
       "      <td>NaN</td>\n",
       "      <td>NaN</td>\n",
       "      <td>NaN</td>\n",
       "    </tr>\n",
       "    <tr>\n",
       "      <th>8253</th>\n",
       "      <td>2229</td>\n",
       "      <td>SDSSJ120034.49+510730.8</td>\n",
       "      <td>180.143728</td>\n",
       "      <td>51.125234</td>\n",
       "      <td>120034.49+510730.8</td>\n",
       "      <td>180.143723</td>\n",
       "      <td>51.125233</td>\n",
       "      <td>1.6897</td>\n",
       "      <td>1048579.0</td>\n",
       "      <td>1.0</td>\n",
       "      <td>...</td>\n",
       "      <td>NaN</td>\n",
       "      <td>0.0</td>\n",
       "      <td>NaN</td>\n",
       "      <td>NaN</td>\n",
       "      <td>NaN</td>\n",
       "      <td>NaN</td>\n",
       "      <td>NaN</td>\n",
       "      <td>NaN</td>\n",
       "      <td>NaN</td>\n",
       "      <td>NaN</td>\n",
       "    </tr>\n",
       "    <tr>\n",
       "      <th>8260</th>\n",
       "      <td>2226</td>\n",
       "      <td>SDSSJ115729.71+495940.3</td>\n",
       "      <td>179.373821</td>\n",
       "      <td>49.994545</td>\n",
       "      <td>115729.71+495940.3</td>\n",
       "      <td>179.373825</td>\n",
       "      <td>49.994545</td>\n",
       "      <td>1.7004</td>\n",
       "      <td>2.0</td>\n",
       "      <td>1.0</td>\n",
       "      <td>...</td>\n",
       "      <td>0.1</td>\n",
       "      <td>0.0</td>\n",
       "      <td>NaN</td>\n",
       "      <td>NaN</td>\n",
       "      <td>NaN</td>\n",
       "      <td>NaN</td>\n",
       "      <td>NaN</td>\n",
       "      <td>NaN</td>\n",
       "      <td>NaN</td>\n",
       "      <td>NaN</td>\n",
       "    </tr>\n",
       "    <tr>\n",
       "      <th>8263</th>\n",
       "      <td>2230</td>\n",
       "      <td>SDSSJ121420.28+484743.5</td>\n",
       "      <td>183.584513</td>\n",
       "      <td>48.795432</td>\n",
       "      <td>121420.28+484743.5</td>\n",
       "      <td>183.584518</td>\n",
       "      <td>48.795433</td>\n",
       "      <td>1.7312</td>\n",
       "      <td>3.0</td>\n",
       "      <td>1.0</td>\n",
       "      <td>...</td>\n",
       "      <td>0.1</td>\n",
       "      <td>0.0</td>\n",
       "      <td>NaN</td>\n",
       "      <td>NaN</td>\n",
       "      <td>NaN</td>\n",
       "      <td>NaN</td>\n",
       "      <td>NaN</td>\n",
       "      <td>NaN</td>\n",
       "      <td>NaN</td>\n",
       "      <td>NaN</td>\n",
       "    </tr>\n",
       "    <tr>\n",
       "      <th>8312</th>\n",
       "      <td>1939</td>\n",
       "      <td>SDSSJ095414.76+513304.4</td>\n",
       "      <td>148.561530</td>\n",
       "      <td>51.551232</td>\n",
       "      <td>095414.76+513304.4</td>\n",
       "      <td>148.561523</td>\n",
       "      <td>51.551231</td>\n",
       "      <td>1.7014</td>\n",
       "      <td>3145739.0</td>\n",
       "      <td>1.0</td>\n",
       "      <td>...</td>\n",
       "      <td>NaN</td>\n",
       "      <td>NaN</td>\n",
       "      <td>148.561579</td>\n",
       "      <td>51.551220</td>\n",
       "      <td>6.812805</td>\n",
       "      <td>0.221996</td>\n",
       "      <td>6.445650</td>\n",
       "      <td>0.120504</td>\n",
       "      <td>-1.0</td>\n",
       "      <td>0.118278</td>\n",
       "    </tr>\n",
       "  </tbody>\n",
       "</table>\n",
       "<p>93 rows × 36 columns</p>\n",
       "</div>"
      ],
      "text/plain": [
       "      col1                     Name      RA_1_1    Dec_1_1  \\\n",
       "68    2549  SDSSJ151133.07+513500.0  227.887798  51.583340   \n",
       "83    7468  SDSSJ161601.73+495634.4  244.007218  49.942899   \n",
       "114   4808  SDSSJ074729.63+492022.7  116.873492  49.339646   \n",
       "154   3012  SDSSJ145844.83+492439.7  224.686796  49.411041   \n",
       "164   1604  SDSSJ152222.02+524743.9  230.591760  52.795547   \n",
       "...    ...                      ...         ...        ...   \n",
       "8252  2228  SDSSJ120554.84+494236.3  181.478533  49.710092   \n",
       "8253  2229  SDSSJ120034.49+510730.8  180.143728  51.125234   \n",
       "8260  2226  SDSSJ115729.71+495940.3  179.373821  49.994545   \n",
       "8263  2230  SDSSJ121420.28+484743.5  183.584513  48.795432   \n",
       "8312  1939  SDSSJ095414.76+513304.4  148.561530  51.551232   \n",
       "\n",
       "               SDSS_NAME        RA_2      DEC_2  REDSHIFT  TARGET_FLAG_TARGET  \\\n",
       "68    151133.07+513500.0  227.887802  51.583340    1.6654                11.0   \n",
       "83    161601.73+495634.4  244.007217  49.942898    1.7226                11.0   \n",
       "114   074729.63+492022.7  116.873489  49.339645    1.7133                10.0   \n",
       "154   145844.83+492439.7  224.686798  49.411041    1.7134           1048579.0   \n",
       "164   152222.02+524743.9  230.591766  52.795547    1.6942           1048579.0   \n",
       "...                  ...         ...        ...       ...                 ...   \n",
       "8252  120554.84+494236.3  181.478531  49.710091    1.6660           1048578.0   \n",
       "8253  120034.49+510730.8  180.143723  51.125233    1.6897           1048579.0   \n",
       "8260  115729.71+495940.3  179.373825  49.994545    1.7004                 2.0   \n",
       "8263  121420.28+484743.5  183.584518  48.795433    1.7312                 3.0   \n",
       "8312  095414.76+513304.4  148.561523  51.551231    1.7014           3145739.0   \n",
       "\n",
       "      UNIFORM_TARGET  ...  e_Sint  Separation_1a          RA        DEC  \\\n",
       "68               1.0  ...     0.1            0.0  227.888009  51.583418   \n",
       "83               1.0  ...     NaN            NaN  244.007271  49.942874   \n",
       "114              1.0  ...     NaN            NaN  116.873560  49.339641   \n",
       "154              1.0  ...     NaN            0.0         NaN        NaN   \n",
       "164              1.0  ...     NaN            0.0         NaN        NaN   \n",
       "...              ...  ...     ...            ...         ...        ...   \n",
       "8252             1.0  ...     NaN            0.0         NaN        NaN   \n",
       "8253             1.0  ...     NaN            0.0         NaN        NaN   \n",
       "8260             1.0  ...     0.1            0.0         NaN        NaN   \n",
       "8263             1.0  ...     0.1            0.0         NaN        NaN   \n",
       "8312             1.0  ...     NaN            NaN  148.561579  51.551220   \n",
       "\n",
       "      Total_flux  E_Total_flux  Peak_flux  E_Peak_flux  P_sidelobe  Separation  \n",
       "68      1.129133      0.249713   0.909267     0.118224        -1.0    0.549284  \n",
       "83     10.008052      0.206328   9.566796     0.115216        -1.0    0.152861  \n",
       "114    62.169323      0.241196  60.946381     0.136497        -1.0    0.159818  \n",
       "154          NaN           NaN        NaN          NaN         NaN         NaN  \n",
       "164          NaN           NaN        NaN          NaN         NaN         NaN  \n",
       "...          ...           ...        ...          ...         ...         ...  \n",
       "8252         NaN           NaN        NaN          NaN         NaN         NaN  \n",
       "8253         NaN           NaN        NaN          NaN         NaN         NaN  \n",
       "8260         NaN           NaN        NaN          NaN         NaN         NaN  \n",
       "8263         NaN           NaN        NaN          NaN         NaN         NaN  \n",
       "8312    6.812805      0.221996   6.445650     0.120504        -1.0    0.118278  \n",
       "\n",
       "[93 rows x 36 columns]"
      ]
     },
     "execution_count": 18,
     "metadata": {},
     "output_type": "execute_result"
    }
   ],
   "source": [
    "sample"
   ]
  },
  {
   "cell_type": "code",
   "execution_count": 19,
   "id": "b558882f",
   "metadata": {},
   "outputs": [],
   "source": [
    "sample.to_csv(\"proposals/RLF/grdr7_Shen2011_8403col_lofar_first_vlass_48dec53.csv\")"
   ]
  },
  {
   "cell_type": "markdown",
   "id": "994e3ffc",
   "metadata": {},
   "source": [
    "4 of these are from the original Richards+21 VLA sample:\n",
    "- 081656.84+492438.1, 26uJy upper limit\n",
    "- 095648.48+534713.5, 36uJy upper limit\n",
    "- 101946.98+494848.6, ~2.5mJy FIRST source (should still ask for time to get 3GHz)\n",
    "- 144510.01+524538.7, 55uJy detection in 2018b\n",
    "\n",
    "So that leaves 92 sources we need to ask time for.  Collect the radio data we have and see how much time that'd add up to."
   ]
  },
  {
   "cell_type": "code",
   "execution_count": 20,
   "id": "5a0842e6",
   "metadata": {},
   "outputs": [],
   "source": [
    "lofar    = ~isNaN(sample[\"r_z\"].values) \n",
    "lofar_det= ~isNaN(sample[\"Speak\"].values)\n",
    "first    = sample[\"FINT_REST6CM_MJY_OBS\"].values > 0\n",
    "vlass    = ~isNaN(sample[\"Total_flux\"].values)"
   ]
  },
  {
   "cell_type": "code",
   "execution_count": 21,
   "id": "7baac8dc",
   "metadata": {},
   "outputs": [],
   "source": [
    "#all in uJy\n",
    "flux_lofar = sample[\"Speak\"].values\n",
    "flux_first = sample[\"FINT_REST6CM_MJY_OBS\"].values\n",
    "flux_vlass = sample[\"Total_flux\"].values"
   ]
  },
  {
   "cell_type": "code",
   "execution_count": 22,
   "id": "0a56957e",
   "metadata": {},
   "outputs": [
    {
     "name": "stdout",
     "output_type": "stream",
     "text": [
      "LoTSS footprint : 48\n",
      "LoTSS detections: 20(17)\n",
      "FIRST detections: 10(2)\n",
      "VLASS detections: 7(0)\n"
     ]
    }
   ],
   "source": [
    "print(\"LoTSS footprint : %d\" % lofar.sum())\n",
    "print(\"LoTSS detections: %d(%d)\" % (lofar_det.sum(), ((lofar_det)&(~first)&(~vlass)).sum()))\n",
    "print(\"FIRST detections: %d(%d)\" % (first.sum(), ((~lofar_det)&(first)&(~vlass)).sum()))\n",
    "print(\"VLASS detections: %d(%d)\" % (vlass.sum(), ((~lofar_det)&(~first)&(vlass)).sum()))"
   ]
  },
  {
   "cell_type": "code",
   "execution_count": 23,
   "id": "7bbf408d",
   "metadata": {},
   "outputs": [
    {
     "data": {
      "text/plain": [
       "(array([2., 1., 0., 1., 0., 0., 0., 1., 0., 2.]),\n",
       " array([ 1.12913259,  9.70687995, 18.28462731, 26.86237467, 35.44012203,\n",
       "        44.01786939, 52.59561675, 61.1733641 , 69.75111146, 78.32885882,\n",
       "        86.90660618]),\n",
       " <BarContainer object of 10 artists>)"
      ]
     },
     "execution_count": 23,
     "metadata": {},
     "output_type": "execute_result"
    },
    {
     "data": {
      "image/png": "[encoded data removed]",
      "text/plain": [
       "<Figure size 1152x324 with 3 Axes>"
      ]
     },
     "metadata": {
      "needs_background": "light"
     },
     "output_type": "display_data"
    }
   ],
   "source": [
    "fig, [ax1,ax2,ax3] = plt.subplots(1, 3, figsize=(16,4.5))\n",
    "ax1.hist(sample[\"Speak\"].values)\n",
    "ax2.hist(sample[\"FINT_REST6CM_MJY_OBS\"].values[first])\n",
    "ax3.hist(sample[\"Total_flux\"].values)"
   ]
  },
  {
   "cell_type": "markdown",
   "id": "d79ca4ce",
   "metadata": {},
   "source": [
    "all flux densities in mJy"
   ]
  },
  {
   "cell_type": "code",
   "execution_count": 24,
   "id": "3dd51cf9",
   "metadata": {},
   "outputs": [],
   "source": [
    "src_times = np.zeros(sample.shape[0])"
   ]
  },
  {
   "cell_type": "code",
   "execution_count": 25,
   "id": "9b002d19",
   "metadata": {},
   "outputs": [],
   "source": [
    "sample[\"Speak\"].values[lofar_det].sort()"
   ]
  },
  {
   "cell_type": "markdown",
   "id": "53e93325",
   "metadata": {},
   "source": [
    "These are some rough cutoffs we can use in determining observing times:\n",
    "\n",
    "- 9uJy requires a total of ~24min\n",
    "- 10uJy requires a total of ~20min\n",
    "- 12uJy requires a total of ~13min\n",
    "- 15uJy requires a total of ~8min\n",
    "- 20uJy requires a total of ~4.5min\n",
    "- 40uJy requires a total of ~1min"
   ]
  },
  {
   "cell_type": "code",
   "execution_count": 27,
   "id": "30de26ff",
   "metadata": {},
   "outputs": [
    {
     "data": {
      "text/plain": [
       "47.74510551913738"
      ]
     },
     "execution_count": 27,
     "metadata": {},
     "output_type": "execute_result"
    }
   ],
   "source": [
    "def flux3ghz(nu, f):\n",
    "    #convert f at nu to f at 3GHz assuming alpha=-0.7\n",
    "    return f*((3/nu)**(-0.7))\n",
    "\n",
    "def obs_time(flux):\n",
    "    #flux units in uJy\n",
    "    if flux/5 > 40:\n",
    "        return 1\n",
    "    elif flux/5 > 20:\n",
    "        return 4.5\n",
    "    elif flux/5 > 15:\n",
    "        return 8\n",
    "    elif flux/5 > 12:\n",
    "        return 13\n",
    "    elif flux/5 > 10:\n",
    "        return 20\n",
    "    elif flux/5 > 9:\n",
    "        return 24\n",
    "    return 0\n",
    "\n",
    "1e3*flux3ghz(.144, 0.4)"
   ]
  },
  {
   "cell_type": "code",
   "execution_count": 28,
   "id": "a923bd13",
   "metadata": {},
   "outputs": [],
   "source": [
    "for i in range(sample.shape[0]):\n",
    "    if vlass[i]:\n",
    "        f3i = 1e3*1.12*flux_vlass[i] #vlass1.1/2 flux systematically low by 15/8%\n",
    "        src_times[i] = obs_time(f3i)\n",
    "        #detected in vlass, apply flux correction and assign observing time\n",
    "    elif first[i]:\n",
    "        f3i = 1e3*flux3ghz(1.4, flux_first[i])\n",
    "        src_times[i] = obs_time(f3i)\n",
    "        #detected in first, compute 3GHz flux assuming alpha=-0.7 and assign observing time\n",
    "    elif lofar_det[i]:\n",
    "        f3i = 1e3*flux3ghz(.144, flux_lofar[i])\n",
    "        src_times[i] = obs_time(f3i)\n",
    "        #detected in lofar, compute 3GHz flux assuming alpha=-0.7 and assign observing time"
   ]
  },
  {
   "cell_type": "code",
   "execution_count": 29,
   "id": "e137e4c4",
   "metadata": {},
   "outputs": [
    {
     "data": {
      "text/plain": [
       "3.8"
      ]
     },
     "execution_count": 29,
     "metadata": {},
     "output_type": "execute_result"
    }
   ],
   "source": [
    "src_times.sum() / 60"
   ]
  },
  {
   "cell_type": "code",
   "execution_count": 30,
   "id": "a69c6b62",
   "metadata": {},
   "outputs": [
    {
     "data": {
      "text/plain": [
       "66"
      ]
     },
     "execution_count": 30,
     "metadata": {},
     "output_type": "execute_result"
    }
   ],
   "source": [
    "(src_times==0).sum()"
   ]
  },
  {
   "cell_type": "markdown",
   "id": "82e4ae55",
   "metadata": {},
   "source": [
    "Now 66 sources left.\n",
    "\n",
    "I'm not totally sure how this works, but Amy says we can observe for a given amount of time to start, then if we don't achieve a detection we can continue going deeper.\n",
    "\n",
    "If we do that, then ~20 minutes will get us about to the depth we achieved last time.  So, exposing for 20 minutes, we might expect a similar number of sources to be detected ($44\\pm9\\%$) as were in the previous VLA campaign.\n",
    "\n",
    "65*0.44 = 28.6.\n",
    "\n",
    "So if we go to about 10uJy for the remaining 65, we might expect to detect 28 of them, which leaves 37 we must go deeper for.\n",
    "\n",
    "28*20min = 560min = 9.33 hours.\n",
    "\n",
    "The last 37 we don't have a great handle on.  It may make sense to go as deep as we think may be necessary to detect the lowest levels of SF present.  Taking the number from the 2021A proposal, we get 3.65uJy depth, which requires ~ 4 hours.... 148 hours total.  But we can still get ~ 10x below the RLF with 4.3uJy (~ 2.15 hours), which would be ~ 80 more hours. Can go 8x below RLF knee, need 5.3uJy (~ 1.25 hours), so  46.25 hours.\n",
    "\n",
    "So we would need roughly 4 + 10 + 80 = 94 total hours to achieve this to the level we really want.  Or 4+10+46.25 = 60.25 hours, probably more reasonable.\n",
    "\n",
    "Not sure that's a reasonable time to ask for, but that's what we need to achieve the science goal with this sample.  Could maybe trim sample size a bit, but don't really want to do that."
   ]
  },
  {
   "cell_type": "code",
   "execution_count": null,
   "id": "bb4fb634",
   "metadata": {},
   "outputs": [],
   "source": []
  }
 ],
 "metadata": {
  "kernelspec": {
   "display_name": "Python 3",
   "language": "python",
   "name": "python3"
  },
  "language_info": {
   "codemirror_mode": {
    "name": "ipython",
    "version": 3
   },
   "file_extension": ".py",
   "mimetype": "text/x-python",
   "name": "python",
   "nbconvert_exporter": "python",
   "pygments_lexer": "ipython3",
   "version": "3.8.8"
  }
 },
 "nbformat": 4,
 "nbformat_minor": 5
}
