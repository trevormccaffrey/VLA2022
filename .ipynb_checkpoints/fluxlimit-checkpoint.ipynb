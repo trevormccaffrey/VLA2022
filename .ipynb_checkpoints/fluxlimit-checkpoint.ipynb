{
 "cells": [
  {
   "cell_type": "code",
   "execution_count": 1,
   "id": "90190afb",
   "metadata": {},
   "outputs": [],
   "source": [
    "import numpy as np\n",
    "from astropy.cosmology import FlatLambdaCDM"
   ]
  },
  {
   "cell_type": "code",
   "execution_count": 2,
   "id": "a8067b9b",
   "metadata": {},
   "outputs": [],
   "source": [
    "cosmo = FlatLambdaCDM(H0=70, Om0=0.3)"
   ]
  },
  {
   "cell_type": "code",
   "execution_count": 3,
   "id": "6c22c647",
   "metadata": {},
   "outputs": [],
   "source": [
    "def radluminosity(nu1, nu2, S, alpha, z):\n",
    "    #calculate luminosity at nu1 based on flux at nu2\n",
    "    DL = 3.086e24*cosmo.luminosity_distance(z).value\n",
    "    L = ((4*np.pi*DL**2*(S*1e-23*1e-6)) / ((1+z)**(1+alpha))) * (nu1/nu2)**alpha * 1e-7\n",
    "    return np.log10(L)\n",
    "\n",
    "def fluxdensity(nu1, nu2, L, alpha, z):\n",
    "    #calculate flux density at nu2 based on luminosity at nu1\n",
    "    #L = 10.**L\n",
    "    DL = 3.086e24*cosmo.luminosity_distance(z).value #Mpc --> cm\n",
    "    S = L * (nu2/nu1)**alpha * (((1+z)**(1+alpha))/(4*np.pi*DL**2)) * 1e36\n",
    "    return S #return flux density in microJy\n",
    "\n",
    "def SFR_L14(L14):\n",
    "    #Yun+2001 SFR relation based on 1.4GHz luminosity\n",
    "    return 5.9e-22 * (L14)"
   ]
  },
  {
   "cell_type": "code",
   "execution_count": 4,
   "id": "1cbef880",
   "metadata": {},
   "outputs": [
    {
     "data": {
      "text/plain": [
       "23.0"
      ]
     },
     "execution_count": 4,
     "metadata": {},
     "output_type": "execute_result"
    }
   ],
   "source": [
    "np.log10(10.**23)"
   ]
  },
  {
   "cell_type": "code",
   "execution_count": 5,
   "id": "2c472232",
   "metadata": {},
   "outputs": [
    {
     "data": {
      "text/plain": [
       "235.11603996180102"
      ]
     },
     "execution_count": 5,
     "metadata": {},
     "output_type": "execute_result"
    }
   ],
   "source": [
    "fluxdensity(1.4, 1.4, 10.**24.5, -0.7, 1.65)"
   ]
  },
  {
   "cell_type": "markdown",
   "id": "31121c23",
   "metadata": {},
   "source": [
    "Magliocchetti find the following relationship between redshift and the break between SF/AGN radio luminosity functions:\n",
    "$$ \\log{P_\\mathrm{1.4GHz}/\\mathrm{[W/Hz/Sr]}} \\approx 21.7 + z $$\n",
    "\n",
    "Evaluating at $z=1.7$, we find \n",
    "$$ P_\\mathrm{1.4GHz} = 2.5\\times10^{23} \\mathrm{W/Hz/Sr} \\rightarrow L_\\mathrm{1.4GHz} = 3.2\\times10^{24} \\mathrm{W/Hz} $$\n",
    "\n",
    "---\n",
    "\n",
    "Now we ask, what is the corresponding 3GHz flux density for a source $N\\times$ below that break.\n",
    "\n",
    "5x below break: $ \\frac{3.2\\times10^{24} \\mathrm{W/Hz}}{5} = 6.3\\times10^{23} \\mathrm{W/Hz} \\rightarrow \\dot{M} \\sim 370\\,M_\\odot\\,\\mathrm{yr}^{-1} $\n",
    "\n",
    "8x below break: $ \\frac{3.2\\times10^{24} \\mathrm{W/Hz}}{8} = 3.9\\times10^{23} \\mathrm{W/Hz} \\rightarrow \\dot{M} \\sim 230\\,M_\\odot\\,\\mathrm{yr}^{-1} $\n",
    "\n",
    "10x below break: $ \\frac{3.2\\times10^{24} \\mathrm{W/Hz}}{10} = 3.2\\times10^{23} \\mathrm{W/Hz} \\rightarrow \\dot{M} \\sim 190\\,M_\\odot\\,\\mathrm{yr}^{-1} $\n",
    "\n",
    "20x below break: $ \\frac{3.2\\times10^{24} \\mathrm{W/Hz}}{20} = 1.6\\times10^{23} \\mathrm{W/Hz} \\rightarrow \\dot{M} \\sim 95\\,M_\\odot\\,\\mathrm{yr}^{-1} $"
   ]
  },
  {
   "cell_type": "code",
   "execution_count": 6,
   "id": "4531c1c8",
   "metadata": {},
   "outputs": [
    {
     "data": {
      "text/plain": [
       "(23.799340549453582, 23.5910646070265, 23.505149978319906, 23.204119982655925)"
      ]
     },
     "execution_count": 6,
     "metadata": {},
     "output_type": "execute_result"
    }
   ],
   "source": [
    "np.log10(6.3e23), np.log10(3.9e23), np.log10(3.2e23), np.log10(1.6e23)"
   ]
  },
  {
   "cell_type": "code",
   "execution_count": 7,
   "id": "778f70c4",
   "metadata": {},
   "outputs": [
    {
     "data": {
      "text/plain": [
       "(371.70000000000005, 230.1, 188.8, 94.4)"
      ]
     },
     "execution_count": 7,
     "metadata": {},
     "output_type": "execute_result"
    }
   ],
   "source": [
    "SFR_L14(6.3e23), SFR_L14(3.9e23), SFR_L14(3.2e23), SFR_L14(1.6e23)"
   ]
  },
  {
   "cell_type": "markdown",
   "id": "d922dd9f",
   "metadata": {},
   "source": [
    "These are *luminosities* at *1.4GHz*.  We want *flux densities* at *3GHz*."
   ]
  },
  {
   "cell_type": "code",
   "execution_count": 8,
   "id": "70217385",
   "metadata": {},
   "outputs": [
    {
     "name": "stdout",
     "output_type": "stream",
     "text": [
      "3GHz flux 5x below RLF :  25.7 µJy\n",
      "3GHz flux 8x below RLF :  15.9 µJy\n",
      "3GHz flux 10x below RLF:  13.0 µJy\n",
      "3GHz flux 20x below RLF:   6.5 µJy\n"
     ]
    }
   ],
   "source": [
    "print(\"3GHz flux 5x below RLF : %5.1f µJy\" % fluxdensity(1.4, 3., 6.3e23, -0.7, 1.7))\n",
    "print(\"3GHz flux 8x below RLF : %5.1f µJy\" % fluxdensity(1.4, 3., 3.9e23, -0.7, 1.7))\n",
    "print(\"3GHz flux 10x below RLF: %5.1f µJy\" % fluxdensity(1.4, 3., 3.2e23, -0.7, 1.7))\n",
    "print(\"3GHz flux 20x below RLF: %5.1f µJy\" % fluxdensity(1.4, 3., 1.6e23, -0.7, 1.7))\n",
    "#print(\"Flux limit\")"
   ]
  },
  {
   "cell_type": "markdown",
   "id": "91fea4a9",
   "metadata": {},
   "source": [
    "VLA's confusion limit for C-config in S-band is ~2.4uJy, so we can forget about going 20x deeper for all sources that need it -- that would require ~29hr to reach!"
   ]
  },
  {
   "cell_type": "code",
   "execution_count": 9,
   "id": "27c8155c",
   "metadata": {},
   "outputs": [
    {
     "data": {
      "text/plain": [
       "4.651743169705583"
      ]
     },
     "execution_count": 9,
     "metadata": {},
     "output_type": "execute_result"
    }
   ],
   "source": [
    "3.2e24 / 10.**radluminosity(1.4, 3., 30, -0.7, 1.65)"
   ]
  },
  {
   "cell_type": "code",
   "execution_count": 10,
   "id": "da5528c6",
   "metadata": {},
   "outputs": [
    {
     "data": {
      "text/plain": [
       "405.8693550184747"
      ]
     },
     "execution_count": 10,
     "metadata": {},
     "output_type": "execute_result"
    }
   ],
   "source": [
    "SFR_L14(10.**radluminosity(1.4, 3., 30, -0.7, 1.65))"
   ]
  },
  {
   "cell_type": "markdown",
   "id": "4dbebd41",
   "metadata": {},
   "source": [
    "Before, we went <~5x below the knee of the RLF, reaching SFRs down to ~400Msol/yr.\n",
    "\n",
    "So, we may ask to go down to 4.4uJy (2 hr per source) to go down to ~200Msol/yr.\n",
    "\n",
    "Should be able to save some time if we observe for <1hour to start, then keep exposing for the full 2hr if a detection is not achieved."
   ]
  },
  {
   "cell_type": "code",
   "execution_count": null,
   "id": "6c4dc64f",
   "metadata": {},
   "outputs": [],
   "source": []
  }
 ],
 "metadata": {
  "kernelspec": {
   "display_name": "Python 3",
   "language": "python",
   "name": "python3"
  },
  "language_info": {
   "codemirror_mode": {
    "name": "ipython",
    "version": 3
   },
   "file_extension": ".py",
   "mimetype": "text/x-python",
   "name": "python",
   "nbconvert_exporter": "python",
   "pygments_lexer": "ipython3",
   "version": "3.6.10"
  }
 },
 "nbformat": 4,
 "nbformat_minor": 5
}
