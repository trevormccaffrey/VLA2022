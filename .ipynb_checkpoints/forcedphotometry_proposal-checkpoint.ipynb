{
 "cells": [
  {
   "cell_type": "code",
   "execution_count": 1,
   "id": "c8353947",
   "metadata": {},
   "outputs": [],
   "source": [
    "import numpy as np\n",
    "import pandas as pd\n",
    "import matplotlib.pyplot as plt\n",
    "from astropy.stats import sigma_clip\n",
    "from scipy.stats import norm\n",
    "from astropy.cosmology import FlatLambdaCDM"
   ]
  },
  {
   "cell_type": "code",
   "execution_count": 2,
   "id": "9d1a7d21",
   "metadata": {},
   "outputs": [],
   "source": [
    "def isNaN(string):\n",
    "    return string!=string\n",
    "\n",
    "cosmo = FlatLambdaCDM(H0=70, Om0=0.3)\n",
    "\n",
    "def radluminosity(nu1, nu2, S, alpha, z):\n",
    "    #calculate luminosity at nu1 based on flux at nu2\n",
    "    DL = 3.086e24*cosmo.luminosity_distance(z).value\n",
    "    L = ((4*np.pi*DL**2*(S*1e-23*1e-6)) / ((1+z)**(1+alpha))) * (nu1/nu2)**alpha * 1e-7\n",
    "    return np.log10(L)"
   ]
  },
  {
   "cell_type": "code",
   "execution_count": 3,
   "id": "bb4fb634",
   "metadata": {},
   "outputs": [
    {
     "data": {
      "text/html": [
       "<div>\n",
       "<style scoped>\n",
       "    .dataframe tbody tr th:only-of-type {\n",
       "        vertical-align: middle;\n",
       "    }\n",
       "\n",
       "    .dataframe tbody tr th {\n",
       "        vertical-align: top;\n",
       "    }\n",
       "\n",
       "    .dataframe thead th {\n",
       "        text-align: right;\n",
       "    }\n",
       "</style>\n",
       "<table border=\"1\" class=\"dataframe\">\n",
       "  <thead>\n",
       "    <tr style=\"text-align: right;\">\n",
       "      <th></th>\n",
       "      <th>col1</th>\n",
       "      <th>Name</th>\n",
       "      <th>RA_1</th>\n",
       "      <th>Dec_1</th>\n",
       "      <th>SDSS_NAME</th>\n",
       "      <th>RA_2</th>\n",
       "      <th>DEC_2</th>\n",
       "      <th>REDSHIFT</th>\n",
       "      <th>TARGET_FLAG_TARGET</th>\n",
       "      <th>UNIFORM_TARGET</th>\n",
       "      <th>...</th>\n",
       "      <th>RA2000_1</th>\n",
       "      <th>DEC2000_1</th>\n",
       "      <th>Separation_1b</th>\n",
       "      <th>Dec+1</th>\n",
       "      <th>RA2000x</th>\n",
       "      <th>DEC2000x</th>\n",
       "      <th>NVSSblank (Jy/beam)</th>\n",
       "      <th>RA2000_2</th>\n",
       "      <th>DEC2000_2</th>\n",
       "      <th>Separation</th>\n",
       "    </tr>\n",
       "  </thead>\n",
       "  <tbody>\n",
       "    <tr>\n",
       "      <th>0</th>\n",
       "      <td>5150</td>\n",
       "      <td>SDSSJ133014.11+344621.4</td>\n",
       "      <td>202.558796</td>\n",
       "      <td>34.772623</td>\n",
       "      <td>133014.11+344621.4</td>\n",
       "      <td>202.558792</td>\n",
       "      <td>34.772621</td>\n",
       "      <td>1.8699</td>\n",
       "      <td>1048579.0</td>\n",
       "      <td>1.0</td>\n",
       "      <td>...</td>\n",
       "      <td>202.558792</td>\n",
       "      <td>34.772611</td>\n",
       "      <td>0.044677</td>\n",
       "      <td>35.772623</td>\n",
       "      <td>13:30:14.11</td>\n",
       "      <td>+35:46:21.4</td>\n",
       "      <td>0.00071</td>\n",
       "      <td>202.558792</td>\n",
       "      <td>35.772611</td>\n",
       "      <td>0.0428</td>\n",
       "    </tr>\n",
       "    <tr>\n",
       "      <th>1</th>\n",
       "      <td>2965</td>\n",
       "      <td>SDSSJ115350.87+564413.7</td>\n",
       "      <td>178.461970</td>\n",
       "      <td>56.737165</td>\n",
       "      <td>115350.87+564413.7</td>\n",
       "      <td>178.461975</td>\n",
       "      <td>56.737164</td>\n",
       "      <td>1.8987</td>\n",
       "      <td>2.0</td>\n",
       "      <td>1.0</td>\n",
       "      <td>...</td>\n",
       "      <td>178.461958</td>\n",
       "      <td>56.737167</td>\n",
       "      <td>0.023805</td>\n",
       "      <td>57.737165</td>\n",
       "      <td>11:53:50.87</td>\n",
       "      <td>+57:44:13.8</td>\n",
       "      <td>0.00008</td>\n",
       "      <td>178.461958</td>\n",
       "      <td>57.737167</td>\n",
       "      <td>0.0060</td>\n",
       "    </tr>\n",
       "    <tr>\n",
       "      <th>2</th>\n",
       "      <td>2281</td>\n",
       "      <td>SDSSJ212450.27+010157.0</td>\n",
       "      <td>321.209483</td>\n",
       "      <td>1.032524</td>\n",
       "      <td>212450.27+010157.0</td>\n",
       "      <td>321.209473</td>\n",
       "      <td>1.032524</td>\n",
       "      <td>1.7359</td>\n",
       "      <td>1048578.0</td>\n",
       "      <td>1.0</td>\n",
       "      <td>...</td>\n",
       "      <td>321.209500</td>\n",
       "      <td>1.032528</td>\n",
       "      <td>0.062683</td>\n",
       "      <td>2.032524</td>\n",
       "      <td>21:24:50.28</td>\n",
       "      <td>+02:01:57.1</td>\n",
       "      <td>0.00001</td>\n",
       "      <td>321.209500</td>\n",
       "      <td>2.032528</td>\n",
       "      <td>0.0136</td>\n",
       "    </tr>\n",
       "    <tr>\n",
       "      <th>3</th>\n",
       "      <td>2282</td>\n",
       "      <td>SDSSJ212359.10+002845.0</td>\n",
       "      <td>320.996273</td>\n",
       "      <td>0.479194</td>\n",
       "      <td>212359.10+002845.0</td>\n",
       "      <td>320.996277</td>\n",
       "      <td>0.479194</td>\n",
       "      <td>1.8577</td>\n",
       "      <td>1048579.0</td>\n",
       "      <td>1.0</td>\n",
       "      <td>...</td>\n",
       "      <td>320.996292</td>\n",
       "      <td>0.479194</td>\n",
       "      <td>0.067217</td>\n",
       "      <td>1.479194</td>\n",
       "      <td>21:23:59.11</td>\n",
       "      <td>+01:28:45.1</td>\n",
       "      <td>0.00060</td>\n",
       "      <td>320.996292</td>\n",
       "      <td>1.479194</td>\n",
       "      <td>0.0016</td>\n",
       "    </tr>\n",
       "    <tr>\n",
       "      <th>4</th>\n",
       "      <td>3709</td>\n",
       "      <td>SDSSJ103924.81+103201.1</td>\n",
       "      <td>159.853404</td>\n",
       "      <td>10.533655</td>\n",
       "      <td>103924.81+103201.1</td>\n",
       "      <td>159.853409</td>\n",
       "      <td>10.533655</td>\n",
       "      <td>1.8904</td>\n",
       "      <td>2.0</td>\n",
       "      <td>1.0</td>\n",
       "      <td>...</td>\n",
       "      <td>159.853417</td>\n",
       "      <td>10.533667</td>\n",
       "      <td>0.061432</td>\n",
       "      <td>11.533655</td>\n",
       "      <td>10:39:24.82</td>\n",
       "      <td>+11:32:01.2</td>\n",
       "      <td>-0.00052</td>\n",
       "      <td>159.853417</td>\n",
       "      <td>11.533667</td>\n",
       "      <td>0.0420</td>\n",
       "    </tr>\n",
       "  </tbody>\n",
       "</table>\n",
       "<p>5 rows × 38 columns</p>\n",
       "</div>"
      ],
      "text/plain": [
       "   col1                     Name        RA_1      Dec_1           SDSS_NAME  \\\n",
       "0  5150  SDSSJ133014.11+344621.4  202.558796  34.772623  133014.11+344621.4   \n",
       "1  2965  SDSSJ115350.87+564413.7  178.461970  56.737165  115350.87+564413.7   \n",
       "2  2281  SDSSJ212450.27+010157.0  321.209483   1.032524  212450.27+010157.0   \n",
       "3  2282  SDSSJ212359.10+002845.0  320.996273   0.479194  212359.10+002845.0   \n",
       "4  3709  SDSSJ103924.81+103201.1  159.853404  10.533655  103924.81+103201.1   \n",
       "\n",
       "         RA_2      DEC_2  REDSHIFT  TARGET_FLAG_TARGET  UNIFORM_TARGET  ...  \\\n",
       "0  202.558792  34.772621    1.8699           1048579.0             1.0  ...   \n",
       "1  178.461975  56.737164    1.8987                 2.0             1.0  ...   \n",
       "2  321.209473   1.032524    1.7359           1048578.0             1.0  ...   \n",
       "3  320.996277   0.479194    1.8577           1048579.0             1.0  ...   \n",
       "4  159.853409  10.533655    1.8904                 2.0             1.0  ...   \n",
       "\n",
       "     RA2000_1  DEC2000_1  Separation_1b      Dec+1      RA2000x     DEC2000x  \\\n",
       "0  202.558792  34.772611       0.044677  35.772623  13:30:14.11  +35:46:21.4   \n",
       "1  178.461958  56.737167       0.023805  57.737165  11:53:50.87  +57:44:13.8   \n",
       "2  321.209500   1.032528       0.062683   2.032524  21:24:50.28  +02:01:57.1   \n",
       "3  320.996292   0.479194       0.067217   1.479194  21:23:59.11  +01:28:45.1   \n",
       "4  159.853417  10.533667       0.061432  11.533655  10:39:24.82  +11:32:01.2   \n",
       "\n",
       "   NVSSblank (Jy/beam)    RA2000_2  DEC2000_2  Separation  \n",
       "0              0.00071  202.558792  35.772611      0.0428  \n",
       "1              0.00008  178.461958  57.737167      0.0060  \n",
       "2              0.00001  321.209500   2.032528      0.0136  \n",
       "3              0.00060  320.996292   1.479194      0.0016  \n",
       "4             -0.00052  159.853417  11.533667      0.0420  \n",
       "\n",
       "[5 rows x 38 columns]"
      ]
     },
     "execution_count": 3,
     "metadata": {},
     "output_type": "execute_result"
    }
   ],
   "source": [
    "dat = pd.read_csv(\"VLA2018data/grdr7_Shen2011_8403col_lofar_first_vlass_nvssFF_info.csv\")\n",
    "dat.head()"
   ]
  },
  {
   "cell_type": "code",
   "execution_count": 4,
   "id": "c3e3a7d7",
   "metadata": {},
   "outputs": [],
   "source": [
    "#for some reasion, 1003 are not in the Rankine+20 CIV catalog\n",
    "blank_sky = dat[\"NVSSblank (Jy/beam)\"].values*1e3 ; blank_sky = blank_sky[~np.isnan(blank_sky)] #in mJy/beam\n",
    "CIVdist = dat[\"CIV_Distance\"].values\n",
    "dat = dat[~isNaN(CIVdist)]"
   ]
  },
  {
   "cell_type": "code",
   "execution_count": 5,
   "id": "b2631c2a",
   "metadata": {},
   "outputs": [
    {
     "data": {
      "text/plain": [
       "1000"
      ]
     },
     "execution_count": 5,
     "metadata": {},
     "output_type": "execute_result"
    }
   ],
   "source": [
    "len(blank_sky)"
   ]
  },
  {
   "cell_type": "code",
   "execution_count": 6,
   "id": "3d346235",
   "metadata": {},
   "outputs": [],
   "source": [
    "flux = dat[\"NVSSff (Jy/beam\"].values*1e3 #in mJy/beam\n",
    "CIVdist = dat[\"CIV_Distance\"].values"
   ]
  },
  {
   "cell_type": "code",
   "execution_count": 7,
   "id": "b79d75fd",
   "metadata": {},
   "outputs": [
    {
     "data": {
      "image/png": "[encoded data removed]",
      "text/plain": [
       "<Figure size 432x432 with 1 Axes>"
      ]
     },
     "metadata": {
      "needs_background": "light"
     },
     "output_type": "display_data"
    }
   ],
   "source": [
    "fig = plt.figure(figsize=(6,6))\n",
    "plt.hist(flux, bins=np.linspace(-5, 5, 200))\n",
    "plt.xlim(min(flux), -min(flux))\n",
    "plt.show()"
   ]
  },
  {
   "cell_type": "code",
   "execution_count": 8,
   "id": "3ced86f0",
   "metadata": {},
   "outputs": [
    {
     "data": {
      "text/plain": [
       "(1007, 1009)"
      ]
     },
     "execution_count": 8,
     "metadata": {},
     "output_type": "execute_result"
    }
   ],
   "source": [
    "CIVlow  = (CIVdist<0.4875)\n",
    "CIVhigh = (CIVdist>0.74)\n",
    "CIVlow.sum(), CIVhigh.sum()"
   ]
  },
  {
   "cell_type": "code",
   "execution_count": 9,
   "id": "2419b3b2",
   "metadata": {},
   "outputs": [
    {
     "data": {
      "image/png": "[encoded data removed]",
      "text/plain": [
       "<Figure size 432x432 with 1 Axes>"
      ]
     },
     "metadata": {
      "needs_background": "light"
     },
     "output_type": "display_data"
    }
   ],
   "source": [
    "bins = np.arange(min(flux), -min(flux), 0.1)\n",
    "\n",
    "fig = plt.figure(figsize=(6,6))\n",
    "plt.hist(flux, bins=bins)\n",
    "#plt.hist(blank_sky, bins=bins, alpha=0.3, label=\"Blank Sky\")\n",
    "plt.hist(flux[CIVlow], bins=bins, alpha=0.6, label=\"Low CIV dist (frustrated jets)\")\n",
    "plt.hist(flux[CIVhigh], bins=bins, alpha=0.6, label=\"High CIV dist (winds)\")\n",
    "plt.xlim(-2, 2)\n",
    "plt.ylim(0,100)\n",
    "plt.legend(loc=\"best\")\n",
    "plt.show()"
   ]
  },
  {
   "cell_type": "code",
   "execution_count": 14,
   "id": "77051f8b",
   "metadata": {},
   "outputs": [],
   "source": [
    "#sigma clip distribution and fit\n",
    "flux_clip     = sigma_clip(flux,sigma_lower=3,sigma_upper=3,maxiters=10,masked=False)\n",
    "fluxlow_clip  = sigma_clip(flux[CIVlow],sigma_lower=3,sigma_upper=3,maxiters=10,masked=False)\n",
    "fluxhigh_clip = sigma_clip(flux[CIVhigh],sigma_lower=3,sigma_upper=3,maxiters=10,masked=False)\n",
    "blank_clip    = sigma_clip(blank_sky,sigma_lower=3,sigma_upper=3,maxiters=10,masked=False)"
   ]
  },
  {
   "cell_type": "code",
   "execution_count": 15,
   "id": "89d8e066",
   "metadata": {},
   "outputs": [
    {
     "data": {
      "text/plain": [
       "6791"
      ]
     },
     "execution_count": 15,
     "metadata": {},
     "output_type": "execute_result"
    }
   ],
   "source": [
    "len(flux_clip)"
   ]
  },
  {
   "cell_type": "code",
   "execution_count": 41,
   "id": "8ca8a9ee",
   "metadata": {},
   "outputs": [
    {
     "data": {
      "image/png": "[encoded data removed]",
      "text/plain": [
       "<Figure size 720x720 with 1 Axes>"
      ]
     },
     "metadata": {
      "needs_background": "light"
     },
     "output_type": "display_data"
    }
   ],
   "source": [
    "bins_clip = np.arange(min(flux_clip), max(flux_clip), 0.1)\n",
    "fig,ax = plt.subplots(1,1,figsize=(10,10))\n",
    "#plt.hist(blank_sky, color=\"k\", bins=bins)\n",
    "plt.hist(flux, bins=bins, color='grey', alpha=0.2, label=\"Parent Sample\")\n",
    "plt.hist(flux[CIVhigh], bins=bins, color='green', alpha=0.6, label=\"High CIV Distance (SF/Winds)\")\n",
    "plt.hist(flux[CIVlow], bins=bins, color='orange', alpha=0.4, label=\"Low CIV Distance (Frustrated Jets)\")\n",
    "\n",
    "testbins = np.arange(-3, 3, 0.001) #these bins look nicer for fits\n",
    "(mu_blank, sigma_blank) = norm.fit(blank_clip)\n",
    "median_blank = np.median(blank_clip)\n",
    "yblank = norm.pdf(testbins, mu_blank, sigma_blank)\n",
    "yblank_true = (yblank*len(blank_clip)*0.1) #get rid of normalization - 0.1 is bin width\n",
    "plt.plot(testbins, yblank_true, 'k-', linewidth=3, label=\"Blank Sky\", alpha=0.8)\n",
    "\n",
    "# This gives the true median and sigma\n",
    "(mu_low, sigma_low) = norm.fit(fluxlow_clip)\n",
    "median_low = np.median(fluxlow_clip)\n",
    "#PDF of the clipped distribution\n",
    "ylow = norm.pdf(testbins, mu_low, sigma_low)\n",
    "ylow_true = (ylow*len(fluxlow_clip)*0.1) #get rid of normalization - 0.1 is bin width\n",
    "plt.plot(testbins, ylow_true, 'r--', linewidth=3)\n",
    "\n",
    "(mu_high, sigma_high) = norm.fit(fluxhigh_clip)\n",
    "median_high = np.median(fluxhigh_clip)\n",
    "yhigh = norm.pdf(testbins, mu_high, sigma_high)\n",
    "yhigh_true = (yhigh*len(fluxhigh_clip)*0.1) #get rid of normalization - 0.1 is bin width\n",
    "plt.plot(testbins, yhigh_true, 'g:', linewidth=4)\n",
    "\n",
    "plt.xlabel(\"NVSS Peak Flux (mJy/beam)\", fontsize=15)\n",
    "plt.xlim(-2, 2)\n",
    "plt.ylim(0,100)\n",
    "plt.legend(loc=\"best\", prop={\"size\":12.5})\n",
    "plt.show()"
   ]
  },
  {
   "cell_type": "code",
   "execution_count": 20,
   "id": "f0dcf0cb",
   "metadata": {},
   "outputs": [
    {
     "data": {
      "text/plain": [
       "-0.009837563451776655"
      ]
     },
     "execution_count": 20,
     "metadata": {},
     "output_type": "execute_result"
    }
   ],
   "source": [
    "np.mean(blank_clip)"
   ]
  },
  {
   "cell_type": "markdown",
   "id": "37facabb",
   "metadata": {},
   "source": [
    "Blank sky has zero mean flux, as expected."
   ]
  },
  {
   "cell_type": "code",
   "execution_count": 176,
   "id": "edfdec96",
   "metadata": {},
   "outputs": [
    {
     "data": {
      "text/plain": [
       "(0.13826530612244897,\n",
       " 0.5399108076150678,\n",
       " 0.19458646616541353,\n",
       " 0.5254795935248437,\n",
       " 0.07087,\n",
       " 1.1216364576367872)"
      ]
     },
     "execution_count": 176,
     "metadata": {},
     "output_type": "execute_result"
    }
   ],
   "source": [
    "mu_low, sigma_low, mu_high, sigma_high, mu_blank, sigma_blank"
   ]
  },
  {
   "cell_type": "code",
   "execution_count": 48,
   "id": "8092dba1",
   "metadata": {},
   "outputs": [
    {
     "data": {
      "image/png": "[encoded data removed]",
      "text/plain": [
       "<Figure size 432x288 with 1 Axes>"
      ]
     },
     "metadata": {
      "needs_background": "light"
     },
     "output_type": "display_data"
    }
   ],
   "source": [
    "plt.plot(testbins, yblank, \"k-\")\n",
    "plt.plot(testbins, ylow, 'r--', linewidth=2)\n",
    "plt.plot(testbins, yhigh, 'g--', linewidth=2)\n",
    "plt.xlim(-2,2)\n",
    "plt.ylim(0,None)\n",
    "plt.show()"
   ]
  },
  {
   "cell_type": "code",
   "execution_count": 51,
   "id": "ecfa4cfd",
   "metadata": {},
   "outputs": [
    {
     "data": {
      "image/png": "[encoded data removed]",
      "text/plain": [
       "<Figure size 432x288 with 1 Axes>"
      ]
     },
     "metadata": {
      "needs_background": "light"
     },
     "output_type": "display_data"
    }
   ],
   "source": [
    "plt.hist(flux_clip, bins=bins_clip, color='grey', alpha=0.8, label=\"Parent Sample\", density=True)\n",
    "plt.hist(fluxhigh_clip, bins=bins_clip, color='green', alpha=0.6, label=\"High CIV Distance\", density=True)\n",
    "plt.hist(fluxlow_clip, bins=bins_clip, color='orange', alpha=0.4, label=\"Low CIV Distance\", density=True)\n",
    "plt.plot(testbins, ylow, 'r--', linewidth=2)\n",
    "plt.plot(testbins, yhigh, 'g--', linewidth=2)\n",
    "plt.xlim(-2,2)\n",
    "plt.show()"
   ]
  },
  {
   "cell_type": "markdown",
   "id": "94187451",
   "metadata": {},
   "source": [
    "Is offset meaningful?..maybe?\n",
    "\n",
    "In any case, this is consistent with what we originally thought going into this: low CIV distance (orange/red) maybe has weak jets and thus has a \"bump\" lower flux density than high CIV distance (green), which has more \"consistent\" (rather than stochastic) radio emission.\n",
    "\n",
    "What are the corresponding radio luminosities?"
   ]
  },
  {
   "cell_type": "code",
   "execution_count": 42,
   "id": "ada7fe50",
   "metadata": {},
   "outputs": [
    {
     "data": {
      "text/plain": [
       "(24.226762198333464, 24.37516160984511)"
      ]
     },
     "execution_count": 42,
     "metadata": {},
     "output_type": "execute_result"
    }
   ],
   "source": [
    "radluminosity(3., 1.4, mu_low*1.e3, -0.7, z=2), radluminosity(3., 1.4, mu_high*1.e3, -0.7, z=2)"
   ]
  },
  {
   "cell_type": "markdown",
   "id": "a36462db",
   "metadata": {},
   "source": [
    "About 0.15dex offset in radio luminosity between the two.\n",
    "\n",
    "---\n",
    "\n",
    "Try to somehow illustrate this in the CIV plot"
   ]
  },
  {
   "cell_type": "code",
   "execution_count": 59,
   "id": "37d3c9b1",
   "metadata": {},
   "outputs": [],
   "source": [
    "def SFR_L14(L14):\n",
    "    #Yun+2001 SFR relation based on 1.4GHz luminosity\n",
    "    return 5.9e-22 * (10**L14)\n",
    "\n",
    "def SFR_Mi(Mi):\n",
    "    #Absolute magnitude SFR relation from Harris+2016\n",
    "    return -29*Mi**2 - 1638*Mi - 22505\n",
    "\n",
    "def SFR_eqw(E):\n",
    "    #Equation 8 of Harris+2016 - compute SFR given EQW measurements\n",
    "    return 4205*E**(-.5) - 328\n",
    "\n",
    "def plot_contour(xdata, ydata, c=\"k\", nlevels=3, ax=None):\n",
    "    if ax is None:\n",
    "        ax = plt.gca()\n",
    "    xmin, xmax = xdata.min(), xdata.max()\n",
    "    ymin, ymax = ydata.min(), ydata.max()\n",
    "    X, Y = np.mgrid[xmin:xmax:1000j, ymin:ymax:1000j]\n",
    "    positions = np.vstack([X.ravel(), Y.ravel()])\n",
    "    values = np.vstack([xdata, ydata])\n",
    "    kernel = gaussian_kde(values)\n",
    "    Z = np.reshape(kernel(positions).T, X.shape)\n",
    "    \n",
    "    #ax.contour(X, Y, Z, levels=nlevels, linewidths=1.5, colors=c)\n",
    "    levels = ax.contour(X, Y, Z, levels=nlevels, linewidths=1.5, colors=c).levels\n",
    "    \n",
    "    for i in range(len(xdata)):\n",
    "        #These are the indices of the ith's point location in Z (the density estimation) - probably the only tricky part about this\n",
    "        xind = abs(X[:,0] - positions[0, abs(positions[0] - xdata[i]).argmin()]).argmin()\n",
    "        yind = abs(Y[0,:] - positions[1, abs(positions[1] - ydata[i]).argmin()]).argmin()\n",
    "        \n",
    "        if Z[xind,yind] < levels[1]: #Plot the scatter point if it's below outermost contour level\n",
    "            ax.scatter(xdata[i], ydata[i], color=c, s=10)#, label=\"VLA Detections\")"
   ]
  },
  {
   "cell_type": "code",
   "execution_count": 55,
   "id": "8bba4c03",
   "metadata": {},
   "outputs": [
    {
     "data": {
      "text/html": [
       "<div>\n",
       "<style scoped>\n",
       "    .dataframe tbody tr th:only-of-type {\n",
       "        vertical-align: middle;\n",
       "    }\n",
       "\n",
       "    .dataframe tbody tr th {\n",
       "        vertical-align: top;\n",
       "    }\n",
       "\n",
       "    .dataframe thead th {\n",
       "        text-align: right;\n",
       "    }\n",
       "</style>\n",
       "<table border=\"1\" class=\"dataframe\">\n",
       "  <thead>\n",
       "    <tr style=\"text-align: right;\">\n",
       "      <th></th>\n",
       "      <th>SDSS_NAME_1</th>\n",
       "      <th>RA_1</th>\n",
       "      <th>DEC_1</th>\n",
       "      <th>REDSHIFT</th>\n",
       "      <th>PLATE</th>\n",
       "      <th>FIBER</th>\n",
       "      <th>MJD</th>\n",
       "      <th>TARGET_FLAG_TARGET_1</th>\n",
       "      <th>NSPECOBS_1</th>\n",
       "      <th>UNIFORM_TARGET_1</th>\n",
       "      <th>...</th>\n",
       "      <th>ICA_CIV_EQW_new2021</th>\n",
       "      <th>RM_DIST_UNSCALE</th>\n",
       "      <th>RM_DIST_SCALE</th>\n",
       "      <th>CIV_BLUESHIFT_SCALED</th>\n",
       "      <th>CIV_EQW_SCALED</th>\n",
       "      <th>CIVBestfit_Index</th>\n",
       "      <th>L3GHz [W/Hz]</th>\n",
       "      <th>CIV_DIST_021721</th>\n",
       "      <th>CIV_DIST_041921</th>\n",
       "      <th>CIV_DIST_FINAL</th>\n",
       "    </tr>\n",
       "  </thead>\n",
       "  <tbody>\n",
       "    <tr>\n",
       "      <th>0</th>\n",
       "      <td>001342.45-002412.6</td>\n",
       "      <td>3.426880</td>\n",
       "      <td>-0.403514</td>\n",
       "      <td>1.6409</td>\n",
       "      <td>389</td>\n",
       "      <td>274</td>\n",
       "      <td>51795</td>\n",
       "      <td>68</td>\n",
       "      <td>1</td>\n",
       "      <td>0</td>\n",
       "      <td>...</td>\n",
       "      <td>35.900650</td>\n",
       "      <td>1728.413701</td>\n",
       "      <td>3.486256</td>\n",
       "      <td>0.722760</td>\n",
       "      <td>-0.879689</td>\n",
       "      <td>275801.0</td>\n",
       "      <td>24.469498</td>\n",
       "      <td>3.506315</td>\n",
       "      <td>2.792875</td>\n",
       "      <td>0.662801</td>\n",
       "    </tr>\n",
       "    <tr>\n",
       "      <th>1</th>\n",
       "      <td>014023.83+141151.7</td>\n",
       "      <td>25.099302</td>\n",
       "      <td>14.197709</td>\n",
       "      <td>1.6544</td>\n",
       "      <td>426</td>\n",
       "      <td>514</td>\n",
       "      <td>51882</td>\n",
       "      <td>4</td>\n",
       "      <td>1</td>\n",
       "      <td>0</td>\n",
       "      <td>...</td>\n",
       "      <td>33.912371</td>\n",
       "      <td>414.691980</td>\n",
       "      <td>2.589969</td>\n",
       "      <td>-0.319656</td>\n",
       "      <td>-0.943523</td>\n",
       "      <td>238121.0</td>\n",
       "      <td>24.841584</td>\n",
       "      <td>2.618358</td>\n",
       "      <td>2.230519</td>\n",
       "      <td>0.542545</td>\n",
       "    </tr>\n",
       "    <tr>\n",
       "      <th>2</th>\n",
       "      <td>014658.21-091505.2</td>\n",
       "      <td>26.742563</td>\n",
       "      <td>-9.251470</td>\n",
       "      <td>1.6516</td>\n",
       "      <td>664</td>\n",
       "      <td>543</td>\n",
       "      <td>52174</td>\n",
       "      <td>1048580</td>\n",
       "      <td>1</td>\n",
       "      <td>0</td>\n",
       "      <td>...</td>\n",
       "      <td>34.648832</td>\n",
       "      <td>646.782974</td>\n",
       "      <td>2.704445</td>\n",
       "      <td>-0.134167</td>\n",
       "      <td>-0.920323</td>\n",
       "      <td>244881.0</td>\n",
       "      <td>23.606351</td>\n",
       "      <td>2.734290</td>\n",
       "      <td>2.304035</td>\n",
       "      <td>0.560694</td>\n",
       "    </tr>\n",
       "    <tr>\n",
       "      <th>3</th>\n",
       "      <td>015720.27-093809.1</td>\n",
       "      <td>29.334463</td>\n",
       "      <td>-9.635872</td>\n",
       "      <td>1.6494</td>\n",
       "      <td>666</td>\n",
       "      <td>298</td>\n",
       "      <td>52149</td>\n",
       "      <td>4</td>\n",
       "      <td>1</td>\n",
       "      <td>0</td>\n",
       "      <td>...</td>\n",
       "      <td>43.720855</td>\n",
       "      <td>796.239578</td>\n",
       "      <td>2.635625</td>\n",
       "      <td>-0.014596</td>\n",
       "      <td>-0.653142</td>\n",
       "      <td>240918.0</td>\n",
       "      <td>23.761645</td>\n",
       "      <td>2.685961</td>\n",
       "      <td>2.164442</td>\n",
       "      <td>0.536344</td>\n",
       "    </tr>\n",
       "    <tr>\n",
       "      <th>4</th>\n",
       "      <td>081656.84+492438.1</td>\n",
       "      <td>124.236839</td>\n",
       "      <td>49.410603</td>\n",
       "      <td>1.6464</td>\n",
       "      <td>440</td>\n",
       "      <td>552</td>\n",
       "      <td>51885</td>\n",
       "      <td>1048580</td>\n",
       "      <td>2</td>\n",
       "      <td>0</td>\n",
       "      <td>...</td>\n",
       "      <td>36.524054</td>\n",
       "      <td>1490.190560</td>\n",
       "      <td>3.289717</td>\n",
       "      <td>0.534205</td>\n",
       "      <td>-0.861619</td>\n",
       "      <td>269740.0</td>\n",
       "      <td>23.545828</td>\n",
       "      <td>3.312861</td>\n",
       "      <td>2.652129</td>\n",
       "      <td>0.636308</td>\n",
       "    </tr>\n",
       "  </tbody>\n",
       "</table>\n",
       "<p>5 rows × 203 columns</p>\n",
       "</div>"
      ],
      "text/plain": [
       "          SDSS_NAME_1        RA_1      DEC_1  REDSHIFT  PLATE  FIBER    MJD  \\\n",
       "0  001342.45-002412.6    3.426880  -0.403514    1.6409    389    274  51795   \n",
       "1  014023.83+141151.7   25.099302  14.197709    1.6544    426    514  51882   \n",
       "2  014658.21-091505.2   26.742563  -9.251470    1.6516    664    543  52174   \n",
       "3  015720.27-093809.1   29.334463  -9.635872    1.6494    666    298  52149   \n",
       "4  081656.84+492438.1  124.236839  49.410603    1.6464    440    552  51885   \n",
       "\n",
       "   TARGET_FLAG_TARGET_1  NSPECOBS_1  UNIFORM_TARGET_1  ...  \\\n",
       "0                    68           1                 0  ...   \n",
       "1                     4           1                 0  ...   \n",
       "2               1048580           1                 0  ...   \n",
       "3                     4           1                 0  ...   \n",
       "4               1048580           2                 0  ...   \n",
       "\n",
       "   ICA_CIV_EQW_new2021  RM_DIST_UNSCALE  RM_DIST_SCALE  CIV_BLUESHIFT_SCALED  \\\n",
       "0            35.900650      1728.413701       3.486256              0.722760   \n",
       "1            33.912371       414.691980       2.589969             -0.319656   \n",
       "2            34.648832       646.782974       2.704445             -0.134167   \n",
       "3            43.720855       796.239578       2.635625             -0.014596   \n",
       "4            36.524054      1490.190560       3.289717              0.534205   \n",
       "\n",
       "   CIV_EQW_SCALED  CIVBestfit_Index  L3GHz [W/Hz]  CIV_DIST_021721  \\\n",
       "0       -0.879689          275801.0     24.469498         3.506315   \n",
       "1       -0.943523          238121.0     24.841584         2.618358   \n",
       "2       -0.920323          244881.0     23.606351         2.734290   \n",
       "3       -0.653142          240918.0     23.761645         2.685961   \n",
       "4       -0.861619          269740.0     23.545828         3.312861   \n",
       "\n",
       "   CIV_DIST_041921  CIV_DIST_FINAL  \n",
       "0         2.792875        0.662801  \n",
       "1         2.230519        0.542545  \n",
       "2         2.304035        0.560694  \n",
       "3         2.164442        0.536344  \n",
       "4         2.652129        0.636308  \n",
       "\n",
       "[5 rows x 203 columns]"
      ]
     },
     "execution_count": 55,
     "metadata": {},
     "output_type": "execute_result"
    }
   ],
   "source": [
    "vla = pd.read_csv(\"VLA2018data/SpringFinalFigs_moreParams.csv\")\n",
    "vla.head()"
   ]
  },
  {
   "cell_type": "code",
   "execution_count": 60,
   "id": "5272a0ab",
   "metadata": {},
   "outputs": [],
   "source": [
    "S3 = vla[\"int_flux\"].values\n",
    "z_vla = vla[\"redshift_1\"].values\n",
    "L3 = radluminosity(3., 3., S3, -0.7, z_vla)\n",
    "L14_vla = radluminosity(1.4, 3., S3, -0.7, z_vla)\n",
    "det_vla = vla[\"detection\"].values\n",
    "F_vla = vla['FIRST'].values.astype(\"int\")\n",
    "D_vla = det_vla+F_vla\n",
    "ew_vla = vla[\"ICA_CIV_EQW_new2021\"].values\n",
    "voff_vla = vla[\"ICA_CIV_BLUESHIFT\"].values\n",
    "Mi_vla = vla[\"MI_Z2_1\"].values\n",
    "\n",
    "#Star formation rates from Harris/Yun\n",
    "avgSFR_vla = (SFR_Mi(Mi_vla) + SFR_eqw(ew_vla)) / 2.\n",
    "SFRL14_vla = SFR_L14(L14_vla)"
   ]
  },
  {
   "cell_type": "markdown",
   "id": "da452978",
   "metadata": {},
   "source": [
    "Now lofar"
   ]
  },
  {
   "cell_type": "code",
   "execution_count": 73,
   "id": "3b98278a",
   "metadata": {},
   "outputs": [
    {
     "data": {
      "text/html": [
       "<div>\n",
       "<style scoped>\n",
       "    .dataframe tbody tr th:only-of-type {\n",
       "        vertical-align: middle;\n",
       "    }\n",
       "\n",
       "    .dataframe tbody tr th {\n",
       "        vertical-align: top;\n",
       "    }\n",
       "\n",
       "    .dataframe thead th {\n",
       "        text-align: right;\n",
       "    }\n",
       "</style>\n",
       "<table border=\"1\" class=\"dataframe\">\n",
       "  <thead>\n",
       "    <tr style=\"text-align: right;\">\n",
       "      <th></th>\n",
       "      <th>SDSS_NAME_1a</th>\n",
       "      <th>RA_1a</th>\n",
       "      <th>DEC_1a</th>\n",
       "      <th>REDSHIFT</th>\n",
       "      <th>PLATE_1a</th>\n",
       "      <th>FIBER_1a</th>\n",
       "      <th>MJD_1a</th>\n",
       "      <th>TARGET_FLAG_TARGET</th>\n",
       "      <th>NSPECOBS</th>\n",
       "      <th>UNIFORM_TARGET</th>\n",
       "      <th>...</th>\n",
       "      <th>CIV_DIST_FINAL</th>\n",
       "      <th>RA_1</th>\n",
       "      <th>Dec_1</th>\n",
       "      <th>Peak_flux</th>\n",
       "      <th>E_Peak_flux</th>\n",
       "      <th>E_Peak_flux_tot</th>\n",
       "      <th>Total_flux</th>\n",
       "      <th>E_Total_flux</th>\n",
       "      <th>E_Total_flux_tot</th>\n",
       "      <th>Separation</th>\n",
       "    </tr>\n",
       "  </thead>\n",
       "  <tbody>\n",
       "    <tr>\n",
       "      <th>0</th>\n",
       "      <td>104446.00+521742.8</td>\n",
       "      <td>161.191681</td>\n",
       "      <td>52.295242</td>\n",
       "      <td>1.7513</td>\n",
       "      <td>1010</td>\n",
       "      <td>182</td>\n",
       "      <td>52649</td>\n",
       "      <td>3</td>\n",
       "      <td>1</td>\n",
       "      <td>1</td>\n",
       "      <td>...</td>\n",
       "      <td>0.519443</td>\n",
       "      <td>NaN</td>\n",
       "      <td>NaN</td>\n",
       "      <td>NaN</td>\n",
       "      <td>NaN</td>\n",
       "      <td>NaN</td>\n",
       "      <td>NaN</td>\n",
       "      <td>NaN</td>\n",
       "      <td>NaN</td>\n",
       "      <td>NaN</td>\n",
       "    </tr>\n",
       "    <tr>\n",
       "      <th>1</th>\n",
       "      <td>104547.58+551853.8</td>\n",
       "      <td>161.448257</td>\n",
       "      <td>55.314972</td>\n",
       "      <td>1.8896</td>\n",
       "      <td>906</td>\n",
       "      <td>462</td>\n",
       "      <td>52368</td>\n",
       "      <td>1048578</td>\n",
       "      <td>1</td>\n",
       "      <td>1</td>\n",
       "      <td>...</td>\n",
       "      <td>0.495808</td>\n",
       "      <td>NaN</td>\n",
       "      <td>NaN</td>\n",
       "      <td>NaN</td>\n",
       "      <td>NaN</td>\n",
       "      <td>NaN</td>\n",
       "      <td>NaN</td>\n",
       "      <td>NaN</td>\n",
       "      <td>NaN</td>\n",
       "      <td>NaN</td>\n",
       "    </tr>\n",
       "    <tr>\n",
       "      <th>2</th>\n",
       "      <td>104718.64+541917.8</td>\n",
       "      <td>161.827698</td>\n",
       "      <td>54.321629</td>\n",
       "      <td>1.8288</td>\n",
       "      <td>906</td>\n",
       "      <td>55</td>\n",
       "      <td>52368</td>\n",
       "      <td>3145739</td>\n",
       "      <td>1</td>\n",
       "      <td>1</td>\n",
       "      <td>...</td>\n",
       "      <td>0.540458</td>\n",
       "      <td>NaN</td>\n",
       "      <td>NaN</td>\n",
       "      <td>NaN</td>\n",
       "      <td>NaN</td>\n",
       "      <td>NaN</td>\n",
       "      <td>NaN</td>\n",
       "      <td>NaN</td>\n",
       "      <td>NaN</td>\n",
       "      <td>NaN</td>\n",
       "    </tr>\n",
       "    <tr>\n",
       "      <th>3</th>\n",
       "      <td>104829.97+550819.0</td>\n",
       "      <td>162.124893</td>\n",
       "      <td>55.138630</td>\n",
       "      <td>2.0671</td>\n",
       "      <td>906</td>\n",
       "      <td>518</td>\n",
       "      <td>52368</td>\n",
       "      <td>1048578</td>\n",
       "      <td>1</td>\n",
       "      <td>1</td>\n",
       "      <td>...</td>\n",
       "      <td>0.772250</td>\n",
       "      <td>NaN</td>\n",
       "      <td>NaN</td>\n",
       "      <td>NaN</td>\n",
       "      <td>NaN</td>\n",
       "      <td>NaN</td>\n",
       "      <td>NaN</td>\n",
       "      <td>NaN</td>\n",
       "      <td>NaN</td>\n",
       "      <td>NaN</td>\n",
       "    </tr>\n",
       "    <tr>\n",
       "      <th>4</th>\n",
       "      <td>104852.00+530747.2</td>\n",
       "      <td>162.216675</td>\n",
       "      <td>53.129780</td>\n",
       "      <td>1.6792</td>\n",
       "      <td>1010</td>\n",
       "      <td>509</td>\n",
       "      <td>52649</td>\n",
       "      <td>1048578</td>\n",
       "      <td>1</td>\n",
       "      <td>1</td>\n",
       "      <td>...</td>\n",
       "      <td>0.539767</td>\n",
       "      <td>NaN</td>\n",
       "      <td>NaN</td>\n",
       "      <td>NaN</td>\n",
       "      <td>NaN</td>\n",
       "      <td>NaN</td>\n",
       "      <td>NaN</td>\n",
       "      <td>NaN</td>\n",
       "      <td>NaN</td>\n",
       "      <td>NaN</td>\n",
       "    </tr>\n",
       "  </tbody>\n",
       "</table>\n",
       "<p>5 rows × 195 columns</p>\n",
       "</div>"
      ],
      "text/plain": [
       "         SDSS_NAME_1a       RA_1a     DEC_1a  REDSHIFT  PLATE_1a  FIBER_1a  \\\n",
       "0  104446.00+521742.8  161.191681  52.295242    1.7513      1010       182   \n",
       "1  104547.58+551853.8  161.448257  55.314972    1.8896       906       462   \n",
       "2  104718.64+541917.8  161.827698  54.321629    1.8288       906        55   \n",
       "3  104829.97+550819.0  162.124893  55.138630    2.0671       906       518   \n",
       "4  104852.00+530747.2  162.216675  53.129780    1.6792      1010       509   \n",
       "\n",
       "   MJD_1a  TARGET_FLAG_TARGET  NSPECOBS  UNIFORM_TARGET  ...  CIV_DIST_FINAL  \\\n",
       "0   52649                   3         1               1  ...        0.519443   \n",
       "1   52368             1048578         1               1  ...        0.495808   \n",
       "2   52368             3145739         1               1  ...        0.540458   \n",
       "3   52368             1048578         1               1  ...        0.772250   \n",
       "4   52649             1048578         1               1  ...        0.539767   \n",
       "\n",
       "   RA_1  Dec_1  Peak_flux  E_Peak_flux  E_Peak_flux_tot  Total_flux  \\\n",
       "0   NaN    NaN        NaN          NaN              NaN         NaN   \n",
       "1   NaN    NaN        NaN          NaN              NaN         NaN   \n",
       "2   NaN    NaN        NaN          NaN              NaN         NaN   \n",
       "3   NaN    NaN        NaN          NaN              NaN         NaN   \n",
       "4   NaN    NaN        NaN          NaN              NaN         NaN   \n",
       "\n",
       "   E_Total_flux  E_Total_flux_tot  Separation  \n",
       "0           NaN               NaN         NaN  \n",
       "1           NaN               NaN         NaN  \n",
       "2           NaN               NaN         NaN  \n",
       "3           NaN               NaN         NaN  \n",
       "4           NaN               NaN         NaN  \n",
       "\n",
       "[5 rows x 195 columns]"
      ]
     },
     "execution_count": 73,
     "metadata": {},
     "output_type": "execute_result"
    }
   ],
   "source": [
    "lofar = pd.read_csv(\"VLA2018data/LOFAR_from8403colorselected_all388_CIV.csv\")\n",
    "lofar.sort_values(\"name\", inplace=True)\n",
    "lofar.head()"
   ]
  },
  {
   "cell_type": "code",
   "execution_count": 74,
   "id": "b1da0ead",
   "metadata": {},
   "outputs": [],
   "source": [
    "det_lofar = ~np.isnan(lofar[\"Peak_flux\"].values)\n",
    "S144 = 210.*np.ones(len(lofar)) #initialize all objects to non-detections\n",
    "S144[det_lofar] = lofar[\"Total_flux\"].values[det_lofar] * 1.e3\n",
    "z_lofar = lofar[\"z_paul\"].values\n",
    "L3_lofar = radluminosity(3., 0.144, S144, -0.7, z_lofar)\n",
    "L14_lofar = radluminosity(1.4, 0.144, S144, -0.7, z_lofar)\n",
    "ew_lofar = lofar[\"CIV_EW\"].values\n",
    "voff_lofar = lofar[\"CIV_blue\"].values\n",
    "Mi_lofar = lofar[\"MI_Z2\"].values\n",
    "\n",
    "#Star formation rates from Harris/Yun\n",
    "avgSFR_lof = (SFR_Mi(Mi_lofar) + SFR_eqw(ew_lofar)) / 2.\n",
    "SFRL14_lof = SFR_L14(L14_lofar)"
   ]
  },
  {
   "cell_type": "code",
   "execution_count": 75,
   "id": "2274c0e6",
   "metadata": {},
   "outputs": [],
   "source": [
    "vla_dist = vla[[\"CIV_DIST_FINAL\"]].values.flatten() \n",
    "lof_dist = lofar[[\"CIV_DIST_FINAL\"]].values.flatten()"
   ]
  },
  {
   "cell_type": "markdown",
   "id": "9e977791",
   "metadata": {},
   "source": [
    "Now determine SFR from Harris+16 and Yun+01"
   ]
  },
  {
   "cell_type": "code",
   "execution_count": 76,
   "id": "12035909",
   "metadata": {},
   "outputs": [
    {
     "data": {
      "text/plain": [
       "<matplotlib.collections.PathCollection at 0x7fa6eb534970>"
      ]
     },
     "execution_count": 76,
     "metadata": {},
     "output_type": "execute_result"
    },
    {
     "data": {
      "image/png": "[encoded data removed]",
      "text/plain": [
       "<Figure size 360x360 with 1 Axes>"
      ]
     },
     "metadata": {
      "needs_background": "light"
     },
     "output_type": "display_data"
    }
   ],
   "source": [
    "#Star formation rates from Harris/Yun\n",
    "\n",
    "#The standard size scaling for these plots -\n",
    "#Determination of this scaling happened in Trevor's version of \"CIV_plot_GTR_fixed.ipynb\"\n",
    "#sent to GTR and AEK through the e-mail thread \"VLA Paper\" on 9/3/2020 at 5:05 PM\n",
    "\n",
    "plt.figure(figsize=(5,5))\n",
    "\n",
    "A = 0. #lower asymptote\n",
    "K = 2000. #upper asymptote\n",
    "B = 21. #growth rate -- the bigger this is, the quicker you reach the upper asymptote\n",
    "nu = 1. #affects where the max growth occurs\n",
    "Q = 1199. #bigger Q returns a smaller starting size \n",
    "\n",
    "sharris_vla = np.array([A + (K-A)/((1+Q*np.e**(-B*(i-min(np.log10(avgSFR_lof)))))**(1/nu)) for i in np.log10(avgSFR_vla)])\n",
    "syun_vla = np.array([A + (K-A)/((1+Q*np.e**(-B*(i-min(np.log10(SFRL14_vla)))))**(1/nu)) for i in np.log10(SFRL14_vla)])\n",
    "\n",
    "sharris_lof = np.array([A + (K-A)/((1+Q*np.e**(-B*(i-min(np.log10(avgSFR_lof)))))**(1/nu)) for i in np.log10(avgSFR_lof)])\n",
    "syun_lof = np.array([A + (K-A)/((1+Q*np.e**(-B*(i-min(np.log10(SFRL14_lof)))))**(1/nu)) for i in np.log10(SFRL14_lof)])\n",
    "\n",
    "plt.scatter(np.log10(avgSFR_vla), sharris_vla)\n",
    "plt.scatter(np.log10(avgSFR_lof), sharris_lof)"
   ]
  },
  {
   "cell_type": "code",
   "execution_count": 77,
   "id": "3de9fd91",
   "metadata": {},
   "outputs": [],
   "source": [
    "first = pd.read_csv(\"VLA2018data/lofar_first_quasars.csv\")"
   ]
  },
  {
   "cell_type": "code",
   "execution_count": 78,
   "id": "7745c824",
   "metadata": {},
   "outputs": [],
   "source": [
    "#Want a mask that picks out FIRST detections from our LOFAR sources\n",
    "lof = lofar[\"name\"].values\n",
    "fir = first[\"name\"].values\n",
    "lof.sort(), fir.sort()\n",
    "lofar_1st = np.array([])\n",
    "\n",
    "for i in range(len(lof)):\n",
    "    if (lof[i]==fir).any():\n",
    "        lofar_1st = np.append(lofar_1st, True)\n",
    "    else:\n",
    "        lofar_1st = np.append(lofar_1st, False)\n",
    "\n",
    "first_lofar = (lofar_1st==1.)"
   ]
  },
  {
   "cell_type": "code",
   "execution_count": 80,
   "id": "aa11b5d7",
   "metadata": {},
   "outputs": [
    {
     "ename": "FileNotFoundError",
     "evalue": "[Errno 2] No such file or directory: '/Users/Trevor1/Desktop/git/CIV_Distance/data/const_civdist_arrs/CIVdist_eq_0.50.npy'",
     "output_type": "error",
     "traceback": [
      "\u001b[0;31m---------------------------------------------------------------------------\u001b[0m",
      "\u001b[0;31mFileNotFoundError\u001b[0m                         Traceback (most recent call last)",
      "\u001b[0;32m<ipython-input-80-ee051e12c643>\u001b[0m in \u001b[0;36m<module>\u001b[0;34m\u001b[0m\n\u001b[1;32m      1\u001b[0m \u001b[0;31m#Get dashed lines to draw above - see CIVPlot_wLOFAR_final_finalCIVdist.ipynb\u001b[0m\u001b[0;34m\u001b[0m\u001b[0;34m\u001b[0m\u001b[0;34m\u001b[0m\u001b[0m\n\u001b[0;32m----> 2\u001b[0;31m \u001b[0mCIV_0p50\u001b[0m \u001b[0;34m=\u001b[0m \u001b[0mnp\u001b[0m\u001b[0;34m.\u001b[0m\u001b[0mload\u001b[0m\u001b[0;34m(\u001b[0m\u001b[0;34m\"/Users/Trevor1/Desktop/git/CIV_Distance/data/const_civdist_arrs/CIVdist_eq_0.50.npy\"\u001b[0m\u001b[0;34m)\u001b[0m\u001b[0;34m\u001b[0m\u001b[0;34m\u001b[0m\u001b[0m\n\u001b[0m\u001b[1;32m      3\u001b[0m \u001b[0mm_50\u001b[0m\u001b[0;34m,\u001b[0m \u001b[0mb_50\u001b[0m \u001b[0;34m=\u001b[0m \u001b[0mnp\u001b[0m\u001b[0;34m.\u001b[0m\u001b[0mpolyfit\u001b[0m\u001b[0;34m(\u001b[0m\u001b[0;36m10.\u001b[0m\u001b[0;34m**\u001b[0m\u001b[0mCIV_0p50\u001b[0m\u001b[0;34m[\u001b[0m\u001b[0;34m:\u001b[0m\u001b[0;34m,\u001b[0m\u001b[0;36m1\u001b[0m\u001b[0;34m]\u001b[0m\u001b[0;34m,\u001b[0m \u001b[0mCIV_0p50\u001b[0m\u001b[0;34m[\u001b[0m\u001b[0;34m:\u001b[0m\u001b[0;34m,\u001b[0m\u001b[0;36m0\u001b[0m\u001b[0;34m]\u001b[0m\u001b[0;34m,\u001b[0m \u001b[0;36m1\u001b[0m\u001b[0;34m)\u001b[0m\u001b[0;34m\u001b[0m\u001b[0;34m\u001b[0m\u001b[0m\n\u001b[1;32m      4\u001b[0m \u001b[0mx_50\u001b[0m \u001b[0;34m=\u001b[0m \u001b[0mnp\u001b[0m\u001b[0;34m.\u001b[0m\u001b[0marange\u001b[0m\u001b[0;34m(\u001b[0m\u001b[0;36m37\u001b[0m\u001b[0;34m,\u001b[0m \u001b[0;36m69\u001b[0m\u001b[0;34m,\u001b[0m \u001b[0;36m1\u001b[0m\u001b[0;34m)\u001b[0m\u001b[0;34m\u001b[0m\u001b[0;34m\u001b[0m\u001b[0m\n\u001b[1;32m      5\u001b[0m \u001b[0;34m\u001b[0m\u001b[0m\n",
      "\u001b[0;32m/opt/anaconda3/lib/python3.8/site-packages/numpy/lib/npyio.py\u001b[0m in \u001b[0;36mload\u001b[0;34m(file, mmap_mode, allow_pickle, fix_imports, encoding)\u001b[0m\n\u001b[1;32m    414\u001b[0m             \u001b[0mown_fid\u001b[0m \u001b[0;34m=\u001b[0m \u001b[0;32mFalse\u001b[0m\u001b[0;34m\u001b[0m\u001b[0;34m\u001b[0m\u001b[0m\n\u001b[1;32m    415\u001b[0m         \u001b[0;32melse\u001b[0m\u001b[0;34m:\u001b[0m\u001b[0;34m\u001b[0m\u001b[0;34m\u001b[0m\u001b[0m\n\u001b[0;32m--> 416\u001b[0;31m             \u001b[0mfid\u001b[0m \u001b[0;34m=\u001b[0m \u001b[0mstack\u001b[0m\u001b[0;34m.\u001b[0m\u001b[0menter_context\u001b[0m\u001b[0;34m(\u001b[0m\u001b[0mopen\u001b[0m\u001b[0;34m(\u001b[0m\u001b[0mos_fspath\u001b[0m\u001b[0;34m(\u001b[0m\u001b[0mfile\u001b[0m\u001b[0;34m)\u001b[0m\u001b[0;34m,\u001b[0m \u001b[0;34m\"rb\"\u001b[0m\u001b[0;34m)\u001b[0m\u001b[0;34m)\u001b[0m\u001b[0;34m\u001b[0m\u001b[0;34m\u001b[0m\u001b[0m\n\u001b[0m\u001b[1;32m    417\u001b[0m             \u001b[0mown_fid\u001b[0m \u001b[0;34m=\u001b[0m \u001b[0;32mTrue\u001b[0m\u001b[0;34m\u001b[0m\u001b[0;34m\u001b[0m\u001b[0m\n\u001b[1;32m    418\u001b[0m \u001b[0;34m\u001b[0m\u001b[0m\n",
      "\u001b[0;31mFileNotFoundError\u001b[0m: [Errno 2] No such file or directory: '/Users/Trevor1/Desktop/git/CIV_Distance/data/const_civdist_arrs/CIVdist_eq_0.50.npy'"
     ]
    }
   ],
   "source": [
    "#Get dashed lines to draw above - see CIVPlot_wLOFAR_final_finalCIVdist.ipynb\n",
    "CIV_0p50 = np.load(\"/Users/Trevor1/Desktop/git/CIV_Distance/data/const_civdist_arrs/CIVdist_eq_0.50.npy\")\n",
    "m_50, b_50 = np.polyfit(10.**CIV_0p50[:,1], CIV_0p50[:,0], 1)\n",
    "x_50 = np.arange(37, 69, 1)\n",
    "\n",
    "CIV_0p75 = np.load(\"/Users/Trevor1/Desktop/git/CIV_Distance/data/const_civdist_arrs/CIVdist_eq_0.75.npy\")\n",
    "m_75, b_75 = np.polyfit(10.**CIV_0p75[:,1], CIV_0p75[:,0], 1)\n",
    "x_75 = np.arange(2, 40, 1)\n",
    "\n",
    "y_50 = m_75*x_50 + b_50\n",
    "y_75 = m_50*x_75 + b_75"
   ]
  },
  {
   "cell_type": "code",
   "execution_count": null,
   "id": "40ffa049",
   "metadata": {},
   "outputs": [],
   "source": []
  }
 ],
 "metadata": {
  "kernelspec": {
   "display_name": "Python 3",
   "language": "python",
   "name": "python3"
  },
  "language_info": {
   "codemirror_mode": {
    "name": "ipython",
    "version": 3
   },
   "file_extension": ".py",
   "mimetype": "text/x-python",
   "name": "python",
   "nbconvert_exporter": "python",
   "pygments_lexer": "ipython3",
   "version": "3.8.8"
  }
 },
 "nbformat": 4,
 "nbformat_minor": 5
}
